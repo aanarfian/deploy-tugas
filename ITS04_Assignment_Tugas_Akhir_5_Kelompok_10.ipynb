{
  "cells": [
    {
      "cell_type": "markdown",
      "metadata": {
        "id": "GlPxCTzNhCL1"
      },
      "source": [
        "# Import Data"
      ]
    },
    {
      "cell_type": "code",
      "execution_count": 1,
      "metadata": {
        "colab": {
          "base_uri": "https://localhost:8080/",
          "height": 1000
        },
        "id": "1749wZOb5-ot",
        "outputId": "59be5d68-0c9d-42d1-dae1-66f7643444a3"
      },
      "outputs": [
        {
          "data": {
            "text/html": [
              "<div>\n",
              "<style scoped>\n",
              "    .dataframe tbody tr th:only-of-type {\n",
              "        vertical-align: middle;\n",
              "    }\n",
              "\n",
              "    .dataframe tbody tr th {\n",
              "        vertical-align: top;\n",
              "    }\n",
              "\n",
              "    .dataframe thead th {\n",
              "        text-align: right;\n",
              "    }\n",
              "</style>\n",
              "<table border=\"1\" class=\"dataframe\">\n",
              "  <thead>\n",
              "    <tr style=\"text-align: right;\">\n",
              "      <th></th>\n",
              "      <th>Tahun</th>\n",
              "      <th>MCU HAJI</th>\n",
              "      <th>MCU PNS</th>\n",
              "      <th>MCU PERUSAHAAN</th>\n",
              "      <th>MCU UMUM</th>\n",
              "      <th>MCU EKSEKUTIF</th>\n",
              "      <th>MCU HAJI ONH PLUS</th>\n",
              "      <th>MCU KARYAWAN</th>\n",
              "      <th>MCU TKHI</th>\n",
              "    </tr>\n",
              "  </thead>\n",
              "  <tbody>\n",
              "    <tr>\n",
              "      <th>0</th>\n",
              "      <td>2017-01-01</td>\n",
              "      <td>15.0</td>\n",
              "      <td>0.0</td>\n",
              "      <td>0.0</td>\n",
              "      <td>0.0</td>\n",
              "      <td>0.0</td>\n",
              "      <td>0.0</td>\n",
              "      <td>0.0</td>\n",
              "      <td>0.0</td>\n",
              "    </tr>\n",
              "    <tr>\n",
              "      <th>1</th>\n",
              "      <td>2017-02-01</td>\n",
              "      <td>0.0</td>\n",
              "      <td>0.0</td>\n",
              "      <td>0.0</td>\n",
              "      <td>3.0</td>\n",
              "      <td>0.0</td>\n",
              "      <td>0.0</td>\n",
              "      <td>0.0</td>\n",
              "      <td>0.0</td>\n",
              "    </tr>\n",
              "    <tr>\n",
              "      <th>2</th>\n",
              "      <td>2017-03-01</td>\n",
              "      <td>2.0</td>\n",
              "      <td>0.0</td>\n",
              "      <td>0.0</td>\n",
              "      <td>2.0</td>\n",
              "      <td>0.0</td>\n",
              "      <td>0.0</td>\n",
              "      <td>0.0</td>\n",
              "      <td>0.0</td>\n",
              "    </tr>\n",
              "    <tr>\n",
              "      <th>3</th>\n",
              "      <td>2017-04-01</td>\n",
              "      <td>1.0</td>\n",
              "      <td>0.0</td>\n",
              "      <td>0.0</td>\n",
              "      <td>5.0</td>\n",
              "      <td>1.0</td>\n",
              "      <td>0.0</td>\n",
              "      <td>0.0</td>\n",
              "      <td>0.0</td>\n",
              "    </tr>\n",
              "    <tr>\n",
              "      <th>4</th>\n",
              "      <td>2017-05-01</td>\n",
              "      <td>31.0</td>\n",
              "      <td>0.0</td>\n",
              "      <td>0.0</td>\n",
              "      <td>2.0</td>\n",
              "      <td>0.0</td>\n",
              "      <td>0.0</td>\n",
              "      <td>14.0</td>\n",
              "      <td>0.0</td>\n",
              "    </tr>\n",
              "    <tr>\n",
              "      <th>5</th>\n",
              "      <td>2017-06-01</td>\n",
              "      <td>6.0</td>\n",
              "      <td>0.0</td>\n",
              "      <td>0.0</td>\n",
              "      <td>0.0</td>\n",
              "      <td>0.0</td>\n",
              "      <td>0.0</td>\n",
              "      <td>0.0</td>\n",
              "      <td>0.0</td>\n",
              "    </tr>\n",
              "    <tr>\n",
              "      <th>6</th>\n",
              "      <td>2017-07-01</td>\n",
              "      <td>1.0</td>\n",
              "      <td>0.0</td>\n",
              "      <td>0.0</td>\n",
              "      <td>4.0</td>\n",
              "      <td>0.0</td>\n",
              "      <td>429.0</td>\n",
              "      <td>0.0</td>\n",
              "      <td>0.0</td>\n",
              "    </tr>\n",
              "    <tr>\n",
              "      <th>7</th>\n",
              "      <td>2017-08-01</td>\n",
              "      <td>0.0</td>\n",
              "      <td>10.0</td>\n",
              "      <td>0.0</td>\n",
              "      <td>2.0</td>\n",
              "      <td>1.0</td>\n",
              "      <td>4.0</td>\n",
              "      <td>12.0</td>\n",
              "      <td>0.0</td>\n",
              "    </tr>\n",
              "    <tr>\n",
              "      <th>8</th>\n",
              "      <td>2017-09-01</td>\n",
              "      <td>0.0</td>\n",
              "      <td>0.0</td>\n",
              "      <td>0.0</td>\n",
              "      <td>2.0</td>\n",
              "      <td>0.0</td>\n",
              "      <td>0.0</td>\n",
              "      <td>0.0</td>\n",
              "      <td>0.0</td>\n",
              "    </tr>\n",
              "    <tr>\n",
              "      <th>9</th>\n",
              "      <td>2017-10-01</td>\n",
              "      <td>0.0</td>\n",
              "      <td>6.0</td>\n",
              "      <td>0.0</td>\n",
              "      <td>0.0</td>\n",
              "      <td>0.0</td>\n",
              "      <td>0.0</td>\n",
              "      <td>79.0</td>\n",
              "      <td>0.0</td>\n",
              "    </tr>\n",
              "    <tr>\n",
              "      <th>10</th>\n",
              "      <td>2017-11-01</td>\n",
              "      <td>0.0</td>\n",
              "      <td>2.0</td>\n",
              "      <td>0.0</td>\n",
              "      <td>0.0</td>\n",
              "      <td>1.0</td>\n",
              "      <td>0.0</td>\n",
              "      <td>40.0</td>\n",
              "      <td>0.0</td>\n",
              "    </tr>\n",
              "    <tr>\n",
              "      <th>11</th>\n",
              "      <td>2017-12-01</td>\n",
              "      <td>0.0</td>\n",
              "      <td>0.0</td>\n",
              "      <td>0.0</td>\n",
              "      <td>0.0</td>\n",
              "      <td>0.0</td>\n",
              "      <td>0.0</td>\n",
              "      <td>0.0</td>\n",
              "      <td>0.0</td>\n",
              "    </tr>\n",
              "    <tr>\n",
              "      <th>12</th>\n",
              "      <td>2018-01-01</td>\n",
              "      <td>2.0</td>\n",
              "      <td>0.0</td>\n",
              "      <td>0.0</td>\n",
              "      <td>1.0</td>\n",
              "      <td>0.0</td>\n",
              "      <td>0.0</td>\n",
              "      <td>0.0</td>\n",
              "      <td>0.0</td>\n",
              "    </tr>\n",
              "    <tr>\n",
              "      <th>13</th>\n",
              "      <td>2018-02-01</td>\n",
              "      <td>0.0</td>\n",
              "      <td>0.0</td>\n",
              "      <td>0.0</td>\n",
              "      <td>1.0</td>\n",
              "      <td>0.0</td>\n",
              "      <td>0.0</td>\n",
              "      <td>0.0</td>\n",
              "      <td>0.0</td>\n",
              "    </tr>\n",
              "    <tr>\n",
              "      <th>14</th>\n",
              "      <td>2018-03-01</td>\n",
              "      <td>0.0</td>\n",
              "      <td>1.0</td>\n",
              "      <td>2.0</td>\n",
              "      <td>0.0</td>\n",
              "      <td>0.0</td>\n",
              "      <td>0.0</td>\n",
              "      <td>0.0</td>\n",
              "      <td>0.0</td>\n",
              "    </tr>\n",
              "    <tr>\n",
              "      <th>15</th>\n",
              "      <td>2018-04-01</td>\n",
              "      <td>16.0</td>\n",
              "      <td>0.0</td>\n",
              "      <td>0.0</td>\n",
              "      <td>3.0</td>\n",
              "      <td>0.0</td>\n",
              "      <td>0.0</td>\n",
              "      <td>16.0</td>\n",
              "      <td>0.0</td>\n",
              "    </tr>\n",
              "    <tr>\n",
              "      <th>16</th>\n",
              "      <td>2018-05-01</td>\n",
              "      <td>1.0</td>\n",
              "      <td>0.0</td>\n",
              "      <td>0.0</td>\n",
              "      <td>1.0</td>\n",
              "      <td>0.0</td>\n",
              "      <td>0.0</td>\n",
              "      <td>14.0</td>\n",
              "      <td>0.0</td>\n",
              "    </tr>\n",
              "    <tr>\n",
              "      <th>17</th>\n",
              "      <td>2018-06-01</td>\n",
              "      <td>0.0</td>\n",
              "      <td>0.0</td>\n",
              "      <td>0.0</td>\n",
              "      <td>0.0</td>\n",
              "      <td>0.0</td>\n",
              "      <td>2.0</td>\n",
              "      <td>0.0</td>\n",
              "      <td>0.0</td>\n",
              "    </tr>\n",
              "    <tr>\n",
              "      <th>18</th>\n",
              "      <td>2018-07-01</td>\n",
              "      <td>0.0</td>\n",
              "      <td>0.0</td>\n",
              "      <td>0.0</td>\n",
              "      <td>4.0</td>\n",
              "      <td>0.0</td>\n",
              "      <td>0.0</td>\n",
              "      <td>0.0</td>\n",
              "      <td>0.0</td>\n",
              "    </tr>\n",
              "    <tr>\n",
              "      <th>19</th>\n",
              "      <td>2018-08-01</td>\n",
              "      <td>0.0</td>\n",
              "      <td>0.0</td>\n",
              "      <td>0.0</td>\n",
              "      <td>0.0</td>\n",
              "      <td>0.0</td>\n",
              "      <td>0.0</td>\n",
              "      <td>0.0</td>\n",
              "      <td>0.0</td>\n",
              "    </tr>\n",
              "    <tr>\n",
              "      <th>20</th>\n",
              "      <td>2018-09-01</td>\n",
              "      <td>0.0</td>\n",
              "      <td>0.0</td>\n",
              "      <td>0.0</td>\n",
              "      <td>0.0</td>\n",
              "      <td>0.0</td>\n",
              "      <td>0.0</td>\n",
              "      <td>52.0</td>\n",
              "      <td>0.0</td>\n",
              "    </tr>\n",
              "    <tr>\n",
              "      <th>21</th>\n",
              "      <td>2018-10-01</td>\n",
              "      <td>0.0</td>\n",
              "      <td>0.0</td>\n",
              "      <td>0.0</td>\n",
              "      <td>4.0</td>\n",
              "      <td>1.0</td>\n",
              "      <td>0.0</td>\n",
              "      <td>81.0</td>\n",
              "      <td>0.0</td>\n",
              "    </tr>\n",
              "    <tr>\n",
              "      <th>22</th>\n",
              "      <td>2018-11-01</td>\n",
              "      <td>0.0</td>\n",
              "      <td>17.0</td>\n",
              "      <td>0.0</td>\n",
              "      <td>0.0</td>\n",
              "      <td>0.0</td>\n",
              "      <td>0.0</td>\n",
              "      <td>96.0</td>\n",
              "      <td>0.0</td>\n",
              "    </tr>\n",
              "    <tr>\n",
              "      <th>23</th>\n",
              "      <td>2018-12-01</td>\n",
              "      <td>0.0</td>\n",
              "      <td>27.0</td>\n",
              "      <td>0.0</td>\n",
              "      <td>0.0</td>\n",
              "      <td>11.0</td>\n",
              "      <td>0.0</td>\n",
              "      <td>52.0</td>\n",
              "      <td>0.0</td>\n",
              "    </tr>\n",
              "    <tr>\n",
              "      <th>24</th>\n",
              "      <td>2019-01-01</td>\n",
              "      <td>0.0</td>\n",
              "      <td>12.0</td>\n",
              "      <td>0.0</td>\n",
              "      <td>0.0</td>\n",
              "      <td>9.0</td>\n",
              "      <td>0.0</td>\n",
              "      <td>0.0</td>\n",
              "      <td>1.0</td>\n",
              "    </tr>\n",
              "    <tr>\n",
              "      <th>25</th>\n",
              "      <td>2019-02-01</td>\n",
              "      <td>3.0</td>\n",
              "      <td>0.0</td>\n",
              "      <td>0.0</td>\n",
              "      <td>0.0</td>\n",
              "      <td>0.0</td>\n",
              "      <td>0.0</td>\n",
              "      <td>0.0</td>\n",
              "      <td>9.0</td>\n",
              "    </tr>\n",
              "    <tr>\n",
              "      <th>26</th>\n",
              "      <td>2019-03-01</td>\n",
              "      <td>17.0</td>\n",
              "      <td>0.0</td>\n",
              "      <td>0.0</td>\n",
              "      <td>0.0</td>\n",
              "      <td>2.0</td>\n",
              "      <td>0.0</td>\n",
              "      <td>28.0</td>\n",
              "      <td>1.0</td>\n",
              "    </tr>\n",
              "    <tr>\n",
              "      <th>27</th>\n",
              "      <td>2019-04-01</td>\n",
              "      <td>0.0</td>\n",
              "      <td>0.0</td>\n",
              "      <td>0.0</td>\n",
              "      <td>0.0</td>\n",
              "      <td>0.0</td>\n",
              "      <td>0.0</td>\n",
              "      <td>10.0</td>\n",
              "      <td>4.0</td>\n",
              "    </tr>\n",
              "    <tr>\n",
              "      <th>28</th>\n",
              "      <td>2019-05-01</td>\n",
              "      <td>1.0</td>\n",
              "      <td>0.0</td>\n",
              "      <td>0.0</td>\n",
              "      <td>0.0</td>\n",
              "      <td>2.0</td>\n",
              "      <td>0.0</td>\n",
              "      <td>0.0</td>\n",
              "      <td>0.0</td>\n",
              "    </tr>\n",
              "    <tr>\n",
              "      <th>29</th>\n",
              "      <td>2019-06-01</td>\n",
              "      <td>0.0</td>\n",
              "      <td>0.0</td>\n",
              "      <td>0.0</td>\n",
              "      <td>0.0</td>\n",
              "      <td>0.0</td>\n",
              "      <td>0.0</td>\n",
              "      <td>15.0</td>\n",
              "      <td>0.0</td>\n",
              "    </tr>\n",
              "    <tr>\n",
              "      <th>30</th>\n",
              "      <td>2019-07-01</td>\n",
              "      <td>0.0</td>\n",
              "      <td>0.0</td>\n",
              "      <td>0.0</td>\n",
              "      <td>0.0</td>\n",
              "      <td>0.0</td>\n",
              "      <td>0.0</td>\n",
              "      <td>10.0</td>\n",
              "      <td>4.0</td>\n",
              "    </tr>\n",
              "    <tr>\n",
              "      <th>31</th>\n",
              "      <td>2019-08-01</td>\n",
              "      <td>1.0</td>\n",
              "      <td>0.0</td>\n",
              "      <td>0.0</td>\n",
              "      <td>0.0</td>\n",
              "      <td>2.0</td>\n",
              "      <td>0.0</td>\n",
              "      <td>0.0</td>\n",
              "      <td>0.0</td>\n",
              "    </tr>\n",
              "    <tr>\n",
              "      <th>32</th>\n",
              "      <td>2019-09-01</td>\n",
              "      <td>0.0</td>\n",
              "      <td>0.0</td>\n",
              "      <td>0.0</td>\n",
              "      <td>0.0</td>\n",
              "      <td>0.0</td>\n",
              "      <td>0.0</td>\n",
              "      <td>15.0</td>\n",
              "      <td>0.0</td>\n",
              "    </tr>\n",
              "    <tr>\n",
              "      <th>33</th>\n",
              "      <td>2019-10-01</td>\n",
              "      <td>0.0</td>\n",
              "      <td>0.0</td>\n",
              "      <td>0.0</td>\n",
              "      <td>0.0</td>\n",
              "      <td>1.0</td>\n",
              "      <td>0.0</td>\n",
              "      <td>26.0</td>\n",
              "      <td>0.0</td>\n",
              "    </tr>\n",
              "    <tr>\n",
              "      <th>34</th>\n",
              "      <td>2019-11-01</td>\n",
              "      <td>0.0</td>\n",
              "      <td>26.0</td>\n",
              "      <td>0.0</td>\n",
              "      <td>0.0</td>\n",
              "      <td>0.0</td>\n",
              "      <td>0.0</td>\n",
              "      <td>19.0</td>\n",
              "      <td>0.0</td>\n",
              "    </tr>\n",
              "    <tr>\n",
              "      <th>35</th>\n",
              "      <td>2019-12-01</td>\n",
              "      <td>0.0</td>\n",
              "      <td>4.0</td>\n",
              "      <td>0.0</td>\n",
              "      <td>0.0</td>\n",
              "      <td>0.0</td>\n",
              "      <td>0.0</td>\n",
              "      <td>39.0</td>\n",
              "      <td>0.0</td>\n",
              "    </tr>\n",
              "    <tr>\n",
              "      <th>36</th>\n",
              "      <td>2020-01-01</td>\n",
              "      <td>0.0</td>\n",
              "      <td>13.0</td>\n",
              "      <td>0.0</td>\n",
              "      <td>0.0</td>\n",
              "      <td>0.0</td>\n",
              "      <td>0.0</td>\n",
              "      <td>0.0</td>\n",
              "      <td>0.0</td>\n",
              "    </tr>\n",
              "    <tr>\n",
              "      <th>37</th>\n",
              "      <td>2020-02-01</td>\n",
              "      <td>4.0</td>\n",
              "      <td>17.0</td>\n",
              "      <td>0.0</td>\n",
              "      <td>0.0</td>\n",
              "      <td>0.0</td>\n",
              "      <td>0.0</td>\n",
              "      <td>0.0</td>\n",
              "      <td>2.0</td>\n",
              "    </tr>\n",
              "    <tr>\n",
              "      <th>38</th>\n",
              "      <td>2020-03-01</td>\n",
              "      <td>11.0</td>\n",
              "      <td>271.0</td>\n",
              "      <td>0.0</td>\n",
              "      <td>0.0</td>\n",
              "      <td>12.0</td>\n",
              "      <td>0.0</td>\n",
              "      <td>0.0</td>\n",
              "      <td>0.0</td>\n",
              "    </tr>\n",
              "    <tr>\n",
              "      <th>39</th>\n",
              "      <td>2020-04-01</td>\n",
              "      <td>0.0</td>\n",
              "      <td>0.0</td>\n",
              "      <td>0.0</td>\n",
              "      <td>0.0</td>\n",
              "      <td>7.0</td>\n",
              "      <td>0.0</td>\n",
              "      <td>0.0</td>\n",
              "      <td>0.0</td>\n",
              "    </tr>\n",
              "    <tr>\n",
              "      <th>40</th>\n",
              "      <td>2020-05-01</td>\n",
              "      <td>0.0</td>\n",
              "      <td>0.0</td>\n",
              "      <td>0.0</td>\n",
              "      <td>0.0</td>\n",
              "      <td>0.0</td>\n",
              "      <td>0.0</td>\n",
              "      <td>0.0</td>\n",
              "      <td>0.0</td>\n",
              "    </tr>\n",
              "    <tr>\n",
              "      <th>41</th>\n",
              "      <td>2020-06-01</td>\n",
              "      <td>0.0</td>\n",
              "      <td>0.0</td>\n",
              "      <td>0.0</td>\n",
              "      <td>0.0</td>\n",
              "      <td>0.0</td>\n",
              "      <td>0.0</td>\n",
              "      <td>27.0</td>\n",
              "      <td>0.0</td>\n",
              "    </tr>\n",
              "    <tr>\n",
              "      <th>42</th>\n",
              "      <td>2020-07-01</td>\n",
              "      <td>0.0</td>\n",
              "      <td>2.0</td>\n",
              "      <td>0.0</td>\n",
              "      <td>0.0</td>\n",
              "      <td>0.0</td>\n",
              "      <td>0.0</td>\n",
              "      <td>39.0</td>\n",
              "      <td>0.0</td>\n",
              "    </tr>\n",
              "    <tr>\n",
              "      <th>43</th>\n",
              "      <td>2020-08-01</td>\n",
              "      <td>0.0</td>\n",
              "      <td>0.0</td>\n",
              "      <td>0.0</td>\n",
              "      <td>0.0</td>\n",
              "      <td>1.0</td>\n",
              "      <td>0.0</td>\n",
              "      <td>0.0</td>\n",
              "      <td>0.0</td>\n",
              "    </tr>\n",
              "    <tr>\n",
              "      <th>44</th>\n",
              "      <td>2020-09-01</td>\n",
              "      <td>0.0</td>\n",
              "      <td>1.0</td>\n",
              "      <td>0.0</td>\n",
              "      <td>0.0</td>\n",
              "      <td>1.0</td>\n",
              "      <td>0.0</td>\n",
              "      <td>0.0</td>\n",
              "      <td>0.0</td>\n",
              "    </tr>\n",
              "    <tr>\n",
              "      <th>45</th>\n",
              "      <td>2020-10-01</td>\n",
              "      <td>0.0</td>\n",
              "      <td>0.0</td>\n",
              "      <td>0.0</td>\n",
              "      <td>0.0</td>\n",
              "      <td>1.0</td>\n",
              "      <td>0.0</td>\n",
              "      <td>0.0</td>\n",
              "      <td>0.0</td>\n",
              "    </tr>\n",
              "    <tr>\n",
              "      <th>46</th>\n",
              "      <td>2020-11-01</td>\n",
              "      <td>0.0</td>\n",
              "      <td>5.0</td>\n",
              "      <td>0.0</td>\n",
              "      <td>0.0</td>\n",
              "      <td>0.0</td>\n",
              "      <td>0.0</td>\n",
              "      <td>0.0</td>\n",
              "      <td>0.0</td>\n",
              "    </tr>\n",
              "    <tr>\n",
              "      <th>47</th>\n",
              "      <td>2020-12-01</td>\n",
              "      <td>0.0</td>\n",
              "      <td>0.0</td>\n",
              "      <td>0.0</td>\n",
              "      <td>0.0</td>\n",
              "      <td>0.0</td>\n",
              "      <td>0.0</td>\n",
              "      <td>0.0</td>\n",
              "      <td>0.0</td>\n",
              "    </tr>\n",
              "    <tr>\n",
              "      <th>48</th>\n",
              "      <td>2021-01-01</td>\n",
              "      <td>0.0</td>\n",
              "      <td>1.0</td>\n",
              "      <td>0.0</td>\n",
              "      <td>0.0</td>\n",
              "      <td>1.0</td>\n",
              "      <td>0.0</td>\n",
              "      <td>0.0</td>\n",
              "      <td>0.0</td>\n",
              "    </tr>\n",
              "    <tr>\n",
              "      <th>49</th>\n",
              "      <td>2021-02-01</td>\n",
              "      <td>0.0</td>\n",
              "      <td>0.0</td>\n",
              "      <td>0.0</td>\n",
              "      <td>1.0</td>\n",
              "      <td>0.0</td>\n",
              "      <td>0.0</td>\n",
              "      <td>0.0</td>\n",
              "      <td>0.0</td>\n",
              "    </tr>\n",
              "    <tr>\n",
              "      <th>50</th>\n",
              "      <td>2021-03-01</td>\n",
              "      <td>0.0</td>\n",
              "      <td>0.0</td>\n",
              "      <td>0.0</td>\n",
              "      <td>0.0</td>\n",
              "      <td>0.0</td>\n",
              "      <td>0.0</td>\n",
              "      <td>0.0</td>\n",
              "      <td>0.0</td>\n",
              "    </tr>\n",
              "    <tr>\n",
              "      <th>51</th>\n",
              "      <td>2021-04-01</td>\n",
              "      <td>0.0</td>\n",
              "      <td>1.0</td>\n",
              "      <td>0.0</td>\n",
              "      <td>0.0</td>\n",
              "      <td>2.0</td>\n",
              "      <td>0.0</td>\n",
              "      <td>1.0</td>\n",
              "      <td>0.0</td>\n",
              "    </tr>\n",
              "    <tr>\n",
              "      <th>52</th>\n",
              "      <td>2021-05-01</td>\n",
              "      <td>0.0</td>\n",
              "      <td>1.0</td>\n",
              "      <td>0.0</td>\n",
              "      <td>0.0</td>\n",
              "      <td>0.0</td>\n",
              "      <td>0.0</td>\n",
              "      <td>0.0</td>\n",
              "      <td>0.0</td>\n",
              "    </tr>\n",
              "    <tr>\n",
              "      <th>53</th>\n",
              "      <td>2021-06-01</td>\n",
              "      <td>0.0</td>\n",
              "      <td>0.0</td>\n",
              "      <td>0.0</td>\n",
              "      <td>0.0</td>\n",
              "      <td>1.0</td>\n",
              "      <td>0.0</td>\n",
              "      <td>14.0</td>\n",
              "      <td>0.0</td>\n",
              "    </tr>\n",
              "    <tr>\n",
              "      <th>54</th>\n",
              "      <td>2021-07-01</td>\n",
              "      <td>0.0</td>\n",
              "      <td>0.0</td>\n",
              "      <td>0.0</td>\n",
              "      <td>0.0</td>\n",
              "      <td>1.0</td>\n",
              "      <td>0.0</td>\n",
              "      <td>0.0</td>\n",
              "      <td>0.0</td>\n",
              "    </tr>\n",
              "    <tr>\n",
              "      <th>55</th>\n",
              "      <td>2021-08-01</td>\n",
              "      <td>0.0</td>\n",
              "      <td>0.0</td>\n",
              "      <td>0.0</td>\n",
              "      <td>0.0</td>\n",
              "      <td>0.0</td>\n",
              "      <td>0.0</td>\n",
              "      <td>0.0</td>\n",
              "      <td>0.0</td>\n",
              "    </tr>\n",
              "    <tr>\n",
              "      <th>56</th>\n",
              "      <td>2021-09-01</td>\n",
              "      <td>0.0</td>\n",
              "      <td>0.0</td>\n",
              "      <td>0.0</td>\n",
              "      <td>0.0</td>\n",
              "      <td>2.0</td>\n",
              "      <td>0.0</td>\n",
              "      <td>17.0</td>\n",
              "      <td>0.0</td>\n",
              "    </tr>\n",
              "  </tbody>\n",
              "</table>\n",
              "</div>"
            ],
            "text/plain": [
              "        Tahun  MCU HAJI  MCU PNS  MCU PERUSAHAAN  MCU UMUM  MCU EKSEKUTIF  \\\n",
              "0  2017-01-01      15.0      0.0             0.0       0.0            0.0   \n",
              "1  2017-02-01       0.0      0.0             0.0       3.0            0.0   \n",
              "2  2017-03-01       2.0      0.0             0.0       2.0            0.0   \n",
              "3  2017-04-01       1.0      0.0             0.0       5.0            1.0   \n",
              "4  2017-05-01      31.0      0.0             0.0       2.0            0.0   \n",
              "5  2017-06-01       6.0      0.0             0.0       0.0            0.0   \n",
              "6  2017-07-01       1.0      0.0             0.0       4.0            0.0   \n",
              "7  2017-08-01       0.0     10.0             0.0       2.0            1.0   \n",
              "8  2017-09-01       0.0      0.0             0.0       2.0            0.0   \n",
              "9  2017-10-01       0.0      6.0             0.0       0.0            0.0   \n",
              "10 2017-11-01       0.0      2.0             0.0       0.0            1.0   \n",
              "11 2017-12-01       0.0      0.0             0.0       0.0            0.0   \n",
              "12 2018-01-01       2.0      0.0             0.0       1.0            0.0   \n",
              "13 2018-02-01       0.0      0.0             0.0       1.0            0.0   \n",
              "14 2018-03-01       0.0      1.0             2.0       0.0            0.0   \n",
              "15 2018-04-01      16.0      0.0             0.0       3.0            0.0   \n",
              "16 2018-05-01       1.0      0.0             0.0       1.0            0.0   \n",
              "17 2018-06-01       0.0      0.0             0.0       0.0            0.0   \n",
              "18 2018-07-01       0.0      0.0             0.0       4.0            0.0   \n",
              "19 2018-08-01       0.0      0.0             0.0       0.0            0.0   \n",
              "20 2018-09-01       0.0      0.0             0.0       0.0            0.0   \n",
              "21 2018-10-01       0.0      0.0             0.0       4.0            1.0   \n",
              "22 2018-11-01       0.0     17.0             0.0       0.0            0.0   \n",
              "23 2018-12-01       0.0     27.0             0.0       0.0           11.0   \n",
              "24 2019-01-01       0.0     12.0             0.0       0.0            9.0   \n",
              "25 2019-02-01       3.0      0.0             0.0       0.0            0.0   \n",
              "26 2019-03-01      17.0      0.0             0.0       0.0            2.0   \n",
              "27 2019-04-01       0.0      0.0             0.0       0.0            0.0   \n",
              "28 2019-05-01       1.0      0.0             0.0       0.0            2.0   \n",
              "29 2019-06-01       0.0      0.0             0.0       0.0            0.0   \n",
              "30 2019-07-01       0.0      0.0             0.0       0.0            0.0   \n",
              "31 2019-08-01       1.0      0.0             0.0       0.0            2.0   \n",
              "32 2019-09-01       0.0      0.0             0.0       0.0            0.0   \n",
              "33 2019-10-01       0.0      0.0             0.0       0.0            1.0   \n",
              "34 2019-11-01       0.0     26.0             0.0       0.0            0.0   \n",
              "35 2019-12-01       0.0      4.0             0.0       0.0            0.0   \n",
              "36 2020-01-01       0.0     13.0             0.0       0.0            0.0   \n",
              "37 2020-02-01       4.0     17.0             0.0       0.0            0.0   \n",
              "38 2020-03-01      11.0    271.0             0.0       0.0           12.0   \n",
              "39 2020-04-01       0.0      0.0             0.0       0.0            7.0   \n",
              "40 2020-05-01       0.0      0.0             0.0       0.0            0.0   \n",
              "41 2020-06-01       0.0      0.0             0.0       0.0            0.0   \n",
              "42 2020-07-01       0.0      2.0             0.0       0.0            0.0   \n",
              "43 2020-08-01       0.0      0.0             0.0       0.0            1.0   \n",
              "44 2020-09-01       0.0      1.0             0.0       0.0            1.0   \n",
              "45 2020-10-01       0.0      0.0             0.0       0.0            1.0   \n",
              "46 2020-11-01       0.0      5.0             0.0       0.0            0.0   \n",
              "47 2020-12-01       0.0      0.0             0.0       0.0            0.0   \n",
              "48 2021-01-01       0.0      1.0             0.0       0.0            1.0   \n",
              "49 2021-02-01       0.0      0.0             0.0       1.0            0.0   \n",
              "50 2021-03-01       0.0      0.0             0.0       0.0            0.0   \n",
              "51 2021-04-01       0.0      1.0             0.0       0.0            2.0   \n",
              "52 2021-05-01       0.0      1.0             0.0       0.0            0.0   \n",
              "53 2021-06-01       0.0      0.0             0.0       0.0            1.0   \n",
              "54 2021-07-01       0.0      0.0             0.0       0.0            1.0   \n",
              "55 2021-08-01       0.0      0.0             0.0       0.0            0.0   \n",
              "56 2021-09-01       0.0      0.0             0.0       0.0            2.0   \n",
              "\n",
              "    MCU HAJI ONH PLUS  MCU KARYAWAN  MCU TKHI  \n",
              "0                 0.0           0.0       0.0  \n",
              "1                 0.0           0.0       0.0  \n",
              "2                 0.0           0.0       0.0  \n",
              "3                 0.0           0.0       0.0  \n",
              "4                 0.0          14.0       0.0  \n",
              "5                 0.0           0.0       0.0  \n",
              "6               429.0           0.0       0.0  \n",
              "7                 4.0          12.0       0.0  \n",
              "8                 0.0           0.0       0.0  \n",
              "9                 0.0          79.0       0.0  \n",
              "10                0.0          40.0       0.0  \n",
              "11                0.0           0.0       0.0  \n",
              "12                0.0           0.0       0.0  \n",
              "13                0.0           0.0       0.0  \n",
              "14                0.0           0.0       0.0  \n",
              "15                0.0          16.0       0.0  \n",
              "16                0.0          14.0       0.0  \n",
              "17                2.0           0.0       0.0  \n",
              "18                0.0           0.0       0.0  \n",
              "19                0.0           0.0       0.0  \n",
              "20                0.0          52.0       0.0  \n",
              "21                0.0          81.0       0.0  \n",
              "22                0.0          96.0       0.0  \n",
              "23                0.0          52.0       0.0  \n",
              "24                0.0           0.0       1.0  \n",
              "25                0.0           0.0       9.0  \n",
              "26                0.0          28.0       1.0  \n",
              "27                0.0          10.0       4.0  \n",
              "28                0.0           0.0       0.0  \n",
              "29                0.0          15.0       0.0  \n",
              "30                0.0          10.0       4.0  \n",
              "31                0.0           0.0       0.0  \n",
              "32                0.0          15.0       0.0  \n",
              "33                0.0          26.0       0.0  \n",
              "34                0.0          19.0       0.0  \n",
              "35                0.0          39.0       0.0  \n",
              "36                0.0           0.0       0.0  \n",
              "37                0.0           0.0       2.0  \n",
              "38                0.0           0.0       0.0  \n",
              "39                0.0           0.0       0.0  \n",
              "40                0.0           0.0       0.0  \n",
              "41                0.0          27.0       0.0  \n",
              "42                0.0          39.0       0.0  \n",
              "43                0.0           0.0       0.0  \n",
              "44                0.0           0.0       0.0  \n",
              "45                0.0           0.0       0.0  \n",
              "46                0.0           0.0       0.0  \n",
              "47                0.0           0.0       0.0  \n",
              "48                0.0           0.0       0.0  \n",
              "49                0.0           0.0       0.0  \n",
              "50                0.0           0.0       0.0  \n",
              "51                0.0           1.0       0.0  \n",
              "52                0.0           0.0       0.0  \n",
              "53                0.0          14.0       0.0  \n",
              "54                0.0           0.0       0.0  \n",
              "55                0.0           0.0       0.0  \n",
              "56                0.0          17.0       0.0  "
            ]
          },
          "execution_count": 1,
          "metadata": {},
          "output_type": "execute_result"
        }
      ],
      "source": [
        "# Convert to a DataFrame and render.\n",
        "import pandas as pd\n",
        "import numpy as np\n",
        "import matplotlib.pyplot as plt\n",
        "import seaborn as sns\n",
        "import pickle\n",
        "df = pd.read_excel('SourceData.xlsx')\n",
        "df"
      ]
    },
    {
      "cell_type": "markdown",
      "metadata": {
        "id": "0zFceMeahHYy"
      },
      "source": [
        "# Pre-processing Data"
      ]
    },
    {
      "cell_type": "markdown",
      "metadata": {
        "id": "Up50agghhgV-"
      },
      "source": [
        "Penyesuaian Tipe Data"
      ]
    },
    {
      "cell_type": "code",
      "execution_count": 3,
      "metadata": {
        "colab": {
          "base_uri": "https://localhost:8080/"
        },
        "id": "q861DSbw81OP",
        "outputId": "20d740e2-1207-42e3-d892-ae053a269ed7"
      },
      "outputs": [
        {
          "name": "stdout",
          "output_type": "stream",
          "text": [
            "<class 'pandas.core.frame.DataFrame'>\n",
            "RangeIndex: 57 entries, 0 to 56\n",
            "Data columns (total 9 columns):\n",
            " #   Column             Non-Null Count  Dtype         \n",
            "---  ------             --------------  -----         \n",
            " 0   Tahun              57 non-null     datetime64[ns]\n",
            " 1   MCU HAJI           57 non-null     float64       \n",
            " 2   MCU PNS            57 non-null     float64       \n",
            " 3   MCU PERUSAHAAN     57 non-null     float64       \n",
            " 4   MCU UMUM           57 non-null     float64       \n",
            " 5   MCU EKSEKUTIF      57 non-null     float64       \n",
            " 6   MCU HAJI ONH PLUS  57 non-null     float64       \n",
            " 7   MCU KARYAWAN       57 non-null     float64       \n",
            " 8   MCU TKHI           57 non-null     float64       \n",
            "dtypes: datetime64[ns](1), float64(8)\n",
            "memory usage: 4.1 KB\n",
            "<class 'pandas.core.frame.DataFrame'>\n",
            "RangeIndex: 57 entries, 0 to 56\n",
            "Data columns (total 9 columns):\n",
            " #   Column             Non-Null Count  Dtype         \n",
            "---  ------             --------------  -----         \n",
            " 0   Tahun              57 non-null     datetime64[ns]\n",
            " 1   MCU HAJI           57 non-null     float64       \n",
            " 2   MCU PNS            57 non-null     float64       \n",
            " 3   MCU PERUSAHAAN     57 non-null     float64       \n",
            " 4   MCU UMUM           57 non-null     float64       \n",
            " 5   MCU EKSEKUTIF      57 non-null     float64       \n",
            " 6   MCU HAJI ONH PLUS  57 non-null     float64       \n",
            " 7   MCU KARYAWAN       57 non-null     float64       \n",
            " 8   MCU TKHI           57 non-null     float64       \n",
            "dtypes: datetime64[ns](1), float64(8)\n",
            "memory usage: 4.1 KB\n"
          ]
        }
      ],
      "source": [
        "df.info()\n",
        "df['MCU HAJI'] = pd.to_numeric(df['MCU HAJI'])\n",
        "df['MCU PNS'] = pd.to_numeric(df['MCU PNS'])\n",
        "df['MCU PERUSAHAAN'] = pd.to_numeric(df['MCU PERUSAHAAN'])\n",
        "df['MCU UMUM'] = pd.to_numeric(df['MCU UMUM'])\n",
        "df['MCU EKSEKUTIF'] = pd.to_numeric(df['MCU EKSEKUTIF'])\n",
        "df['MCU HAJI ONH PLUS'] = pd.to_numeric(df['MCU HAJI ONH PLUS'])\n",
        "df['MCU KARYAWAN'] = pd.to_numeric(df['MCU KARYAWAN'])\n",
        "df['MCU TKHI'] = pd.to_numeric(df['MCU TKHI'])\n",
        "df.info()\n"
      ]
    },
    {
      "cell_type": "markdown",
      "metadata": {
        "id": "Xc4RSg0ihm3z"
      },
      "source": [
        "Pengecekan Statistika Data"
      ]
    },
    {
      "cell_type": "code",
      "execution_count": 4,
      "metadata": {
        "colab": {
          "base_uri": "https://localhost:8080/",
          "height": 300
        },
        "id": "N0eb1zLL_lDJ",
        "outputId": "59c28c5b-d9b0-411c-81ef-b4c67fc2638d"
      },
      "outputs": [
        {
          "data": {
            "text/html": [
              "<div>\n",
              "<style scoped>\n",
              "    .dataframe tbody tr th:only-of-type {\n",
              "        vertical-align: middle;\n",
              "    }\n",
              "\n",
              "    .dataframe tbody tr th {\n",
              "        vertical-align: top;\n",
              "    }\n",
              "\n",
              "    .dataframe thead th {\n",
              "        text-align: right;\n",
              "    }\n",
              "</style>\n",
              "<table border=\"1\" class=\"dataframe\">\n",
              "  <thead>\n",
              "    <tr style=\"text-align: right;\">\n",
              "      <th></th>\n",
              "      <th>MCU HAJI</th>\n",
              "      <th>MCU PNS</th>\n",
              "      <th>MCU PERUSAHAAN</th>\n",
              "      <th>MCU UMUM</th>\n",
              "      <th>MCU EKSEKUTIF</th>\n",
              "      <th>MCU HAJI ONH PLUS</th>\n",
              "      <th>MCU KARYAWAN</th>\n",
              "      <th>MCU TKHI</th>\n",
              "    </tr>\n",
              "  </thead>\n",
              "  <tbody>\n",
              "    <tr>\n",
              "      <th>count</th>\n",
              "      <td>57.000000</td>\n",
              "      <td>57.000000</td>\n",
              "      <td>57.000000</td>\n",
              "      <td>57.000000</td>\n",
              "      <td>57.000000</td>\n",
              "      <td>57.000000</td>\n",
              "      <td>57.000000</td>\n",
              "      <td>57.000000</td>\n",
              "    </tr>\n",
              "    <tr>\n",
              "      <th>mean</th>\n",
              "      <td>1.964912</td>\n",
              "      <td>7.315789</td>\n",
              "      <td>0.035088</td>\n",
              "      <td>0.614035</td>\n",
              "      <td>1.052632</td>\n",
              "      <td>7.631579</td>\n",
              "      <td>12.561404</td>\n",
              "      <td>0.368421</td>\n",
              "    </tr>\n",
              "    <tr>\n",
              "      <th>std</th>\n",
              "      <td>5.519333</td>\n",
              "      <td>36.074406</td>\n",
              "      <td>0.264906</td>\n",
              "      <td>1.264267</td>\n",
              "      <td>2.545451</td>\n",
              "      <td>56.811289</td>\n",
              "      <td>22.181087</td>\n",
              "      <td>1.409554</td>\n",
              "    </tr>\n",
              "    <tr>\n",
              "      <th>min</th>\n",
              "      <td>0.000000</td>\n",
              "      <td>0.000000</td>\n",
              "      <td>0.000000</td>\n",
              "      <td>0.000000</td>\n",
              "      <td>0.000000</td>\n",
              "      <td>0.000000</td>\n",
              "      <td>0.000000</td>\n",
              "      <td>0.000000</td>\n",
              "    </tr>\n",
              "    <tr>\n",
              "      <th>25%</th>\n",
              "      <td>0.000000</td>\n",
              "      <td>0.000000</td>\n",
              "      <td>0.000000</td>\n",
              "      <td>0.000000</td>\n",
              "      <td>0.000000</td>\n",
              "      <td>0.000000</td>\n",
              "      <td>0.000000</td>\n",
              "      <td>0.000000</td>\n",
              "    </tr>\n",
              "    <tr>\n",
              "      <th>50%</th>\n",
              "      <td>0.000000</td>\n",
              "      <td>0.000000</td>\n",
              "      <td>0.000000</td>\n",
              "      <td>0.000000</td>\n",
              "      <td>0.000000</td>\n",
              "      <td>0.000000</td>\n",
              "      <td>0.000000</td>\n",
              "      <td>0.000000</td>\n",
              "    </tr>\n",
              "    <tr>\n",
              "      <th>75%</th>\n",
              "      <td>1.000000</td>\n",
              "      <td>1.000000</td>\n",
              "      <td>0.000000</td>\n",
              "      <td>0.000000</td>\n",
              "      <td>1.000000</td>\n",
              "      <td>0.000000</td>\n",
              "      <td>15.000000</td>\n",
              "      <td>0.000000</td>\n",
              "    </tr>\n",
              "    <tr>\n",
              "      <th>max</th>\n",
              "      <td>31.000000</td>\n",
              "      <td>271.000000</td>\n",
              "      <td>2.000000</td>\n",
              "      <td>5.000000</td>\n",
              "      <td>12.000000</td>\n",
              "      <td>429.000000</td>\n",
              "      <td>96.000000</td>\n",
              "      <td>9.000000</td>\n",
              "    </tr>\n",
              "  </tbody>\n",
              "</table>\n",
              "</div>"
            ],
            "text/plain": [
              "        MCU HAJI     MCU PNS  MCU PERUSAHAAN   MCU UMUM  MCU EKSEKUTIF  \\\n",
              "count  57.000000   57.000000       57.000000  57.000000      57.000000   \n",
              "mean    1.964912    7.315789        0.035088   0.614035       1.052632   \n",
              "std     5.519333   36.074406        0.264906   1.264267       2.545451   \n",
              "min     0.000000    0.000000        0.000000   0.000000       0.000000   \n",
              "25%     0.000000    0.000000        0.000000   0.000000       0.000000   \n",
              "50%     0.000000    0.000000        0.000000   0.000000       0.000000   \n",
              "75%     1.000000    1.000000        0.000000   0.000000       1.000000   \n",
              "max    31.000000  271.000000        2.000000   5.000000      12.000000   \n",
              "\n",
              "       MCU HAJI ONH PLUS  MCU KARYAWAN   MCU TKHI  \n",
              "count          57.000000     57.000000  57.000000  \n",
              "mean            7.631579     12.561404   0.368421  \n",
              "std            56.811289     22.181087   1.409554  \n",
              "min             0.000000      0.000000   0.000000  \n",
              "25%             0.000000      0.000000   0.000000  \n",
              "50%             0.000000      0.000000   0.000000  \n",
              "75%             0.000000     15.000000   0.000000  \n",
              "max           429.000000     96.000000   9.000000  "
            ]
          },
          "execution_count": 4,
          "metadata": {},
          "output_type": "execute_result"
        }
      ],
      "source": [
        "df.describe()\n"
      ]
    },
    {
      "cell_type": "markdown",
      "metadata": {
        "id": "1pzT7KoChtvw"
      },
      "source": [
        "Melihat jumlah baris dan kolom"
      ]
    },
    {
      "cell_type": "code",
      "execution_count": 5,
      "metadata": {
        "colab": {
          "base_uri": "https://localhost:8080/"
        },
        "id": "U9oprhVoABIA",
        "outputId": "41ab924a-36d5-419b-8049-f58a098d1362"
      },
      "outputs": [
        {
          "data": {
            "text/plain": [
              "(57, 9)"
            ]
          },
          "execution_count": 5,
          "metadata": {},
          "output_type": "execute_result"
        }
      ],
      "source": [
        "df.shape"
      ]
    },
    {
      "cell_type": "markdown",
      "metadata": {
        "id": "5lkCbNOuhx7_"
      },
      "source": [
        "Pengecekkan Missing Value"
      ]
    },
    {
      "cell_type": "code",
      "execution_count": 6,
      "metadata": {
        "colab": {
          "base_uri": "https://localhost:8080/"
        },
        "id": "-I6ezHR-AFEc",
        "outputId": "06420a68-2527-413c-d3e7-c10f004aef28"
      },
      "outputs": [
        {
          "data": {
            "text/plain": [
              "Tahun                0\n",
              "MCU HAJI             0\n",
              "MCU PNS              0\n",
              "MCU PERUSAHAAN       0\n",
              "MCU UMUM             0\n",
              "MCU EKSEKUTIF        0\n",
              "MCU HAJI ONH PLUS    0\n",
              "MCU KARYAWAN         0\n",
              "MCU TKHI             0\n",
              "dtype: int64"
            ]
          },
          "execution_count": 6,
          "metadata": {},
          "output_type": "execute_result"
        }
      ],
      "source": [
        "df.isnull().sum()"
      ]
    },
    {
      "cell_type": "markdown",
      "metadata": {
        "id": "UlUKYqrLh0Xt"
      },
      "source": [
        "Pengecekan Duplicate Data"
      ]
    },
    {
      "cell_type": "code",
      "execution_count": 7,
      "metadata": {
        "colab": {
          "base_uri": "https://localhost:8080/"
        },
        "id": "z55Ott_6ALX6",
        "outputId": "7d81bfa1-447a-4eea-e2ba-63d503269b37"
      },
      "outputs": [
        {
          "data": {
            "text/plain": [
              "0"
            ]
          },
          "execution_count": 7,
          "metadata": {},
          "output_type": "execute_result"
        }
      ],
      "source": [
        "df.duplicated().sum()"
      ]
    },
    {
      "cell_type": "markdown",
      "metadata": {
        "id": "NHhWGcg4h20Q"
      },
      "source": [
        "Visualisasi Sebaran Data"
      ]
    },
    {
      "cell_type": "code",
      "execution_count": 8,
      "metadata": {
        "colab": {
          "base_uri": "https://localhost:8080/",
          "height": 636
        },
        "id": "rDPQANB-FVDy",
        "outputId": "c39ad589-9706-41d6-a5d2-6d999e331437"
      },
      "outputs": [
        {
          "data": {
            "image/png": "[encoded data removed]",
            "text/plain": [
              "<Figure size 1440x720 with 1 Axes>"
            ]
          },
          "metadata": {
            "needs_background": "light"
          },
          "output_type": "display_data"
        }
      ],
      "source": [
        "plt.figure(figsize = (20,10))\n",
        "sns.lineplot(data=df, x='Tahun', y='MCU HAJI')\n",
        "plt.xticks(rotation=90)\n",
        "plt.show()"
      ]
    },
    {
      "cell_type": "code",
      "execution_count": 11,
      "metadata": {
        "colab": {
          "base_uri": "https://localhost:8080/",
          "height": 636
        },
        "id": "MXPFnwABHjSj",
        "outputId": "efb8c6cf-6e50-4d5d-bbcb-c1fdda55e35f"
      },
      "outputs": [
        {
          "data": {
            "image/png": "[encoded data removed]",
            "text/plain": [
              "<Figure size 1440x720 with 1 Axes>"
            ]
          },
          "metadata": {
            "needs_background": "light"
          },
          "output_type": "display_data"
        }
      ],
      "source": [
        "plt.figure(figsize = (20,10))\n",
        "sns.lineplot(data=df, x='Tahun', y='MCU PNS')\n",
        "plt.xticks(rotation=90)\n",
        "plt.show()"
      ]
    },
    {
      "cell_type": "code",
      "execution_count": 12,
      "metadata": {
        "colab": {
          "base_uri": "https://localhost:8080/",
          "height": 636
        },
        "id": "Y0_5iuLFEOks",
        "outputId": "51a0aa97-003d-4b4a-dc99-be18710217e2"
      },
      "outputs": [
        {
          "data": {
            "image/png": "[encoded data removed]",
            "text/plain": [
              "<Figure size 1440x720 with 1 Axes>"
            ]
          },
          "metadata": {
            "needs_background": "light"
          },
          "output_type": "display_data"
        }
      ],
      "source": [
        "plt.figure(figsize = (20,10))\n",
        "sns.lineplot(data=df, x='Tahun', y='MCU PERUSAHAAN')\n",
        "plt.xticks(rotation=90)\n",
        "plt.show()"
      ]
    },
    {
      "cell_type": "code",
      "execution_count": 13,
      "metadata": {
        "colab": {
          "base_uri": "https://localhost:8080/",
          "height": 636
        },
        "id": "LiDNQSalEOsl",
        "outputId": "8047fa4d-d990-4018-a136-3f388451c360"
      },
      "outputs": [
        {
          "data": {
            "image/png": "[encoded data removed]",
            "text/plain": [
              "<Figure size 1440x720 with 1 Axes>"
            ]
          },
          "metadata": {
            "needs_background": "light"
          },
          "output_type": "display_data"
        }
      ],
      "source": [
        "plt.figure(figsize = (20,10))\n",
        "sns.lineplot(data=df, x='Tahun', y='MCU UMUM')\n",
        "plt.xticks(rotation=90)\n",
        "plt.show()"
      ]
    },
    {
      "cell_type": "code",
      "execution_count": 14,
      "metadata": {
        "colab": {
          "base_uri": "https://localhost:8080/",
          "height": 636
        },
        "id": "m1chLwnnEO0d",
        "outputId": "4b57718c-a0c8-4544-bcc7-db33ffecbbda"
      },
      "outputs": [
        {
          "data": {
            "image/png": "[encoded data removed]",
            "text/plain": [
              "<Figure size 1440x720 with 1 Axes>"
            ]
          },
          "metadata": {
            "needs_background": "light"
          },
          "output_type": "display_data"
        }
      ],
      "source": [
        "plt.figure(figsize = (20,10))\n",
        "sns.lineplot(data=df, x='Tahun', y='MCU HAJI ONH PLUS')\n",
        "plt.xticks(rotation=90)\n",
        "plt.show()"
      ]
    },
    {
      "cell_type": "code",
      "execution_count": 15,
      "metadata": {
        "colab": {
          "base_uri": "https://localhost:8080/",
          "height": 636
        },
        "id": "WUdk0JqOE2wK",
        "outputId": "8342dfad-6eb6-4af9-f55d-1c21a6718e76"
      },
      "outputs": [
        {
          "data": {
            "image/png": "[encoded data removed]",
            "text/plain": [
              "<Figure size 1440x720 with 1 Axes>"
            ]
          },
          "metadata": {
            "needs_background": "light"
          },
          "output_type": "display_data"
        }
      ],
      "source": [
        "plt.figure(figsize = (20,10))\n",
        "sns.lineplot(data=df, x='Tahun', y='MCU KARYAWAN')\n",
        "plt.xticks(rotation=90)\n",
        "plt.show()"
      ]
    },
    {
      "cell_type": "code",
      "execution_count": 16,
      "metadata": {
        "colab": {
          "base_uri": "https://localhost:8080/",
          "height": 636
        },
        "id": "t9EaDTM6E2yf",
        "outputId": "e05e91a4-3165-4d02-83e2-2bcd4c24b880"
      },
      "outputs": [
        {
          "data": {
            "image/png": "[encoded data removed]",
            "text/plain": [
              "<Figure size 1440x720 with 1 Axes>"
            ]
          },
          "metadata": {
            "needs_background": "light"
          },
          "output_type": "display_data"
        }
      ],
      "source": [
        "plt.figure(figsize = (20,10))\n",
        "sns.lineplot(data=df, x='Tahun', y='MCU TKHI')\n",
        "plt.xticks(rotation=90)\n",
        "plt.show()"
      ]
    },
    {
      "cell_type": "markdown",
      "metadata": {
        "id": "lfRphMtqOZVU"
      },
      "source": [
        "# MCU Haji"
      ]
    },
    {
      "cell_type": "markdown",
      "metadata": {
        "id": "JIZjqOK8J_kn"
      },
      "source": [
        "Memuat Model\n"
      ]
    },
    {
      "cell_type": "code",
      "execution_count": 89,
      "metadata": {
        "id": "DQMu_0bEKCJO"
      },
      "outputs": [],
      "source": [
        "dfmodel = df.copy()"
      ]
    },
    {
      "cell_type": "code",
      "execution_count": 90,
      "metadata": {
        "id": "ptMxuVjiKMrP"
      },
      "outputs": [],
      "source": [
        "from sklearn.model_selection import train_test_split\n",
        "X_train, X_test, y_train, y_test = train_test_split(dfmodel.index, dfmodel[['MCU HAJI']], test_size=0.20, random_state=0)"
      ]
    },
    {
      "cell_type": "code",
      "execution_count": 91,
      "metadata": {
        "id": "nS08Xkk9LQ4U"
      },
      "outputs": [],
      "source": [
        "X_train = X_train.values.reshape(-1,1)\n",
        "X_test = X_test.values.reshape(-1,1)"
      ]
    },
    {
      "cell_type": "markdown",
      "metadata": {
        "id": "DsxnoYHM_R6_"
      },
      "source": [
        "Menerapkan Model Regresi Linear"
      ]
    },
    {
      "cell_type": "code",
      "execution_count": 92,
      "metadata": {
        "colab": {
          "base_uri": "https://localhost:8080/"
        },
        "id": "zV4hSCSBnNif",
        "outputId": "a36e21c0-4658-4b97-c05c-297db51c43bb"
      },
      "outputs": [
        {
          "data": {
            "text/plain": [
              "LinearRegression()"
            ]
          },
          "execution_count": 92,
          "metadata": {},
          "output_type": "execute_result"
        }
      ],
      "source": [
        "from sklearn.linear_model import LinearRegression\n",
        "model_haji = LinearRegression()\n",
        "model_haji.fit(X_train, y_train)"
      ]
    },
    {
      "cell_type": "markdown",
      "metadata": {
        "id": "Sxy0IRBi_Uql"
      },
      "source": [
        "Evaluasi Model"
      ]
    },
    {
      "cell_type": "code",
      "execution_count": 93,
      "metadata": {
        "colab": {
          "base_uri": "https://localhost:8080/"
        },
        "id": "dIyc6LIV-WNA",
        "outputId": "834c2370-1e38-4746-c7ab-c44d09f8bce3"
      },
      "outputs": [
        {
          "data": {
            "text/plain": [
              "array([[ 1.31],\n",
              "       [ 1.37],\n",
              "       [ 0.92],\n",
              "       [ 1.83],\n",
              "       [ 2.87],\n",
              "       [ 3.45],\n",
              "       [ 1.44],\n",
              "       [-0.05],\n",
              "       [ 2.15],\n",
              "       [ 0.01],\n",
              "       [ 3.32],\n",
              "       [ 2.93]])"
            ]
          },
          "execution_count": 93,
          "metadata": {},
          "output_type": "execute_result"
        }
      ],
      "source": [
        "y_pred_haji = model_haji.predict(X_test)\n",
        "np.set_printoptions(precision=2)\n",
        "y_pred_haji"
      ]
    },
    {
      "cell_type": "code",
      "execution_count": 94,
      "metadata": {
        "colab": {
          "base_uri": "https://localhost:8080/"
        },
        "id": "_c60nzjp-a76",
        "outputId": "b28bed84-7300-4beb-d3fc-aed5e1db54be"
      },
      "outputs": [
        {
          "name": "stdout",
          "output_type": "stream",
          "text": [
            "Mean absolute error = 3.67\n",
            "Median absolute error = 1.45\n",
            "Mean Square Error = 66.63\n",
            "Root Mean Square Error = 8.16\n"
          ]
        }
      ],
      "source": [
        "import sklearn.metrics as metrics\n",
        "print(\"Mean absolute error =\", round(metrics.mean_absolute_error(y_test, y_pred_haji), 2)) \n",
        "print(\"Median absolute error =\", round(metrics.median_absolute_error(y_test, y_pred_haji), 2)) \n",
        "print(\"Mean Square Error =\", round(metrics.mean_squared_error(y_test, y_pred_haji), 2)) \n",
        "print(\"Root Mean Square Error =\", round(np.sqrt(metrics.mean_squared_error(y_test, y_pred_haji)), 2)) "
      ]
    },
    {
      "cell_type": "markdown",
      "metadata": {
        "id": "D1c2a_i_MCtp"
      },
      "source": [
        "Visualisasi"
      ]
    },
    {
      "cell_type": "code",
      "execution_count": 95,
      "metadata": {
        "colab": {
          "base_uri": "https://localhost:8080/",
          "height": 297
        },
        "id": "AIFNwWfvMEfQ",
        "outputId": "e4711428-bcbf-47e3-bfe8-f0746248cc4e"
      },
      "outputs": [
        {
          "data": {
            "text/plain": [
              "Text(0, 0.5, 'MCU Haji')"
            ]
          },
          "execution_count": 95,
          "metadata": {},
          "output_type": "execute_result"
        },
        {
          "data": {
            "image/png": "[encoded data removed]",
            "text/plain": [
              "<Figure size 432x288 with 1 Axes>"
            ]
          },
          "metadata": {
            "needs_background": "light"
          },
          "output_type": "display_data"
        }
      ],
      "source": [
        "y_prediksi_haji = model_haji.predict(X_test)\n",
        "\n",
        "plt.scatter(X_test, y_test)\n",
        "plt.plot(X_test, y_prediksi_haji, c='r')\n",
        "plt.xlabel('Tahun/bulan')\n",
        "plt.ylabel('MCU Haji')\n",
        "# plt.title('Plot enginesize vs Price')"
      ]
    },
    {
      "cell_type": "code",
      "execution_count": 96,
      "metadata": {
        "colab": {
          "base_uri": "https://localhost:8080/"
        },
        "id": "LFeJnFS5Mf8k",
        "outputId": "7460be65-9057-4840-c5a9-40d8fdc11bda"
      },
      "outputs": [
        {
          "name": "stdout",
          "output_type": "stream",
          "text": [
            "nilai prediksi harga dengan enginesize 100 :  [[-0.12]]\n",
            "nilai prediksi harga dengan enginesize 150 :  [[-0.18]]\n",
            "nilai prediksi harga dengan enginesize 200 :  [[-0.25]]\n"
          ]
        }
      ],
      "source": [
        "print('nilai prediksi harga dengan enginesize 100 : ',model_haji.predict([[57]]))\n",
        "print('nilai prediksi harga dengan enginesize 150 : ',model_haji.predict([[58]]))\n",
        "print('nilai prediksi harga dengan enginesize 200 : ',model_haji.predict([[59]]))"
      ]
    },
    {
      "cell_type": "code",
      "execution_count": null,
      "metadata": {},
      "outputs": [],
      "source": []
    },
    {
      "cell_type": "markdown",
      "metadata": {
        "id": "whnVnNELOmRk"
      },
      "source": [
        "# MCU PNS"
      ]
    },
    {
      "cell_type": "markdown",
      "metadata": {
        "id": "p-hn8ORdOmRl"
      },
      "source": [
        "Memuat Model\n"
      ]
    },
    {
      "cell_type": "code",
      "execution_count": 11,
      "metadata": {
        "id": "-eqQF5gnOmRl"
      },
      "outputs": [],
      "source": [
        "dfmodel = df.copy()"
      ]
    },
    {
      "cell_type": "code",
      "execution_count": 12,
      "metadata": {
        "id": "vjUGnp0NOmRl"
      },
      "outputs": [],
      "source": [
        "from sklearn.model_selection import train_test_split\n",
        "X_train, X_test, y_train, y_test = train_test_split(dfmodel.index, dfmodel[['MCU PNS']], test_size=0.20, random_state=0)"
      ]
    },
    {
      "cell_type": "code",
      "execution_count": 13,
      "metadata": {
        "id": "agpS1-jfOmRl"
      },
      "outputs": [],
      "source": [
        "X_train = X_train.values.reshape(-1,1)\n",
        "X_test = X_test.values.reshape(-1,1)"
      ]
    },
    {
      "cell_type": "markdown",
      "metadata": {
        "id": "I8KIw2CdOmRl"
      },
      "source": [
        "Menerapkan Model Regresi Linear"
      ]
    },
    {
      "cell_type": "code",
      "execution_count": 14,
      "metadata": {
        "colab": {
          "base_uri": "https://localhost:8080/"
        },
        "id": "syUHZut1OmRm",
        "outputId": "f4e71057-5569-4b43-c886-09df08b27cdb"
      },
      "outputs": [
        {
          "data": {
            "text/plain": [
              "LinearRegression()"
            ]
          },
          "execution_count": 14,
          "metadata": {},
          "output_type": "execute_result"
        }
      ],
      "source": [
        "from sklearn.linear_model import LinearRegression\n",
        "model_pns = LinearRegression()\n",
        "model_pns.fit(X_train, y_train)"
      ]
    },
    {
      "cell_type": "markdown",
      "metadata": {
        "id": "AP6hv3mvOmRm"
      },
      "source": [
        "Evaluasi Model"
      ]
    },
    {
      "cell_type": "code",
      "execution_count": 15,
      "metadata": {
        "colab": {
          "base_uri": "https://localhost:8080/"
        },
        "id": "wadu39UxOmRm",
        "outputId": "28c161fa-4d76-4bdb-d2f0-60ab0c23254b"
      },
      "outputs": [
        {
          "data": {
            "text/plain": [
              "array([[ 9.7 ],\n",
              "       [ 9.48],\n",
              "       [11.03],\n",
              "       [ 7.93],\n",
              "       [ 4.38],\n",
              "       [ 2.39],\n",
              "       [ 9.26],\n",
              "       [14.35],\n",
              "       [ 6.82],\n",
              "       [14.13],\n",
              "       [ 2.83],\n",
              "       [ 4.16]])"
            ]
          },
          "execution_count": 15,
          "metadata": {},
          "output_type": "execute_result"
        }
      ],
      "source": [
        "y_pred_pns = model_pns.predict(X_test)\n",
        "np.set_printoptions(precision=2)\n",
        "y_pred_pns"
      ]
    },
    {
      "cell_type": "code",
      "execution_count": 16,
      "metadata": {
        "colab": {
          "base_uri": "https://localhost:8080/"
        },
        "id": "cReWJGnoOmRn",
        "outputId": "c134ce71-921f-40aa-be84-bfc759f89d73"
      },
      "outputs": [
        {
          "name": "stdout",
          "output_type": "stream",
          "text": [
            "Mean absolute error = 8.4\n",
            "Median absolute error = 8.59\n",
            "Mean Square Error = 93.52\n",
            "Root Mean Square Error = 9.67\n"
          ]
        }
      ],
      "source": [
        "import sklearn.metrics as metrics\n",
        "print(\"Mean absolute error =\", round(metrics.mean_absolute_error(y_test, y_pred_pns), 2)) \n",
        "print(\"Median absolute error =\", round(metrics.median_absolute_error(y_test, y_pred_pns), 2)) \n",
        "print(\"Mean Square Error =\", round(metrics.mean_squared_error(y_test, y_pred_pns), 2)) \n",
        "print(\"Root Mean Square Error =\", round(np.sqrt(metrics.mean_squared_error(y_test, y_pred_pns)), 2)) "
      ]
    },
    {
      "cell_type": "markdown",
      "metadata": {
        "id": "ADcpCuPLOmRn"
      },
      "source": [
        "Visualisasi"
      ]
    },
    {
      "cell_type": "code",
      "execution_count": 17,
      "metadata": {
        "colab": {
          "base_uri": "https://localhost:8080/",
          "height": 297
        },
        "id": "TB-yQaX3OmRn",
        "outputId": "ab4080c6-30db-4859-e085-26e73659077f"
      },
      "outputs": [
        {
          "data": {
            "text/plain": [
              "Text(0, 0.5, 'MCU PNS')"
            ]
          },
          "execution_count": 17,
          "metadata": {},
          "output_type": "execute_result"
        },
        {
          "data": {
            "image/png": "[encoded data removed]",
            "text/plain": [
              "<Figure size 432x288 with 1 Axes>"
            ]
          },
          "metadata": {
            "needs_background": "light"
          },
          "output_type": "display_data"
        }
      ],
      "source": [
        "y_prediksi_pns = model_pns.predict(X_test)\n",
        "\n",
        "plt.scatter(X_test, y_test)\n",
        "plt.plot(X_test, y_prediksi_pns, c='r')\n",
        "plt.xlabel('Tahun/bulan')\n",
        "plt.ylabel('MCU PNS')\n",
        "# plt.title('Plot enginesize vs Price')"
      ]
    },
    {
      "cell_type": "code",
      "execution_count": 18,
      "metadata": {
        "colab": {
          "base_uri": "https://localhost:8080/"
        },
        "id": "yQvtMzlXOmRn",
        "outputId": "8b00f3e9-b418-4af8-9d50-e8d95147f853"
      },
      "outputs": [
        {
          "name": "stdout",
          "output_type": "stream",
          "text": [
            "nilai prediksi pada bulan ke-57 :  [[14.57]]\n",
            "nilai prediksi pada bulan ke-58 :  [[14.79]]\n",
            "nilai prediksi pada bulan ke-59 :  [[15.01]]\n"
          ]
        }
      ],
      "source": [
        "print('nilai prediksi pada bulan ke-57 : ',model_pns.predict([[57]]))\n",
        "print('nilai prediksi pada bulan ke-58 : ',model_pns.predict([[58]]))\n",
        "print('nilai prediksi pada bulan ke-59 : ',model_pns.predict([[59]]))"
      ]
    },
    {
      "cell_type": "code",
      "execution_count": 19,
      "metadata": {
        "id": "0BG_PNQ2Owf1"
      },
      "outputs": [],
      "source": [
        "filename = 'finalized_model_pns.sav'\n",
        "pickle.dump(model_pns, open(filename, 'wb'))"
      ]
    },
    {
      "cell_type": "markdown",
      "metadata": {
        "id": "WA_uiQU-OxQT"
      },
      "source": [
        "# MCU Perusahaan"
      ]
    },
    {
      "cell_type": "markdown",
      "metadata": {
        "id": "RyWiUR8GOxQU"
      },
      "source": [
        "Memuat Model\n"
      ]
    },
    {
      "cell_type": "code",
      "execution_count": 21,
      "metadata": {
        "id": "scxvZI7fOxQU"
      },
      "outputs": [],
      "source": [
        "dfmodel = df.copy()"
      ]
    },
    {
      "cell_type": "code",
      "execution_count": 22,
      "metadata": {
        "id": "4jY78WR3OxQU"
      },
      "outputs": [],
      "source": [
        "from sklearn.model_selection import train_test_split\n",
        "X_train, X_test, y_train, y_test = train_test_split(dfmodel.index, dfmodel[['MCU PERUSAHAAN']], test_size=0.20, random_state=0)"
      ]
    },
    {
      "cell_type": "code",
      "execution_count": 23,
      "metadata": {
        "id": "UbJKgbmoOxQU"
      },
      "outputs": [],
      "source": [
        "X_train = X_train.values.reshape(-1,1)\n",
        "X_test = X_test.values.reshape(-1,1)"
      ]
    },
    {
      "cell_type": "markdown",
      "metadata": {
        "id": "_fdmM2g1OxQV"
      },
      "source": [
        "Menerapkan Model Regresi Linear"
      ]
    },
    {
      "cell_type": "code",
      "execution_count": 24,
      "metadata": {
        "colab": {
          "base_uri": "https://localhost:8080/"
        },
        "id": "ef26w-VQOxQV",
        "outputId": "5d35cbc7-0af3-4a2e-f1e4-0ea1c745ade6"
      },
      "outputs": [
        {
          "data": {
            "text/plain": [
              "LinearRegression()"
            ]
          },
          "execution_count": 24,
          "metadata": {},
          "output_type": "execute_result"
        }
      ],
      "source": [
        "from sklearn.linear_model import LinearRegression\n",
        "model_perusahaan = LinearRegression()\n",
        "model_perusahaan.fit(X_train, y_train)"
      ]
    },
    {
      "cell_type": "markdown",
      "metadata": {
        "id": "T7jc3R9OOxQV"
      },
      "source": [
        "Evaluasi Model"
      ]
    },
    {
      "cell_type": "code",
      "execution_count": 25,
      "metadata": {
        "colab": {
          "base_uri": "https://localhost:8080/"
        },
        "id": "aQmhzN3pOxQV",
        "outputId": "af494c00-69c4-48e0-c12e-1f411f71d8f2"
      },
      "outputs": [
        {
          "data": {
            "text/plain": [
              "array([[ 0.03],\n",
              "       [ 0.03],\n",
              "       [ 0.01],\n",
              "       [ 0.05],\n",
              "       [ 0.09],\n",
              "       [ 0.11],\n",
              "       [ 0.03],\n",
              "       [-0.02],\n",
              "       [ 0.06],\n",
              "       [-0.02],\n",
              "       [ 0.1 ],\n",
              "       [ 0.09]])"
            ]
          },
          "execution_count": 25,
          "metadata": {},
          "output_type": "execute_result"
        }
      ],
      "source": [
        "y_pred_perusahaan = model_perusahaan.predict(X_test)\n",
        "np.set_printoptions(precision=2)\n",
        "y_pred_perusahaan"
      ]
    },
    {
      "cell_type": "code",
      "execution_count": 26,
      "metadata": {
        "colab": {
          "base_uri": "https://localhost:8080/"
        },
        "id": "fJXQWrdnOxQW",
        "outputId": "12ccba90-d735-44e5-cc03-8a97a9e517b3"
      },
      "outputs": [
        {
          "name": "stdout",
          "output_type": "stream",
          "text": [
            "Mean absolute error = 0.05\n",
            "Median absolute error = 0.04\n",
            "Mean Square Error = 0.0\n",
            "Root Mean Square Error = 0.06\n"
          ]
        }
      ],
      "source": [
        "import sklearn.metrics as metrics\n",
        "print(\"Mean absolute error =\", round(metrics.mean_absolute_error(y_test, y_pred_perusahaan), 2)) \n",
        "print(\"Median absolute error =\", round(metrics.median_absolute_error(y_test, y_pred_perusahaan), 2)) \n",
        "print(\"Mean Square Error =\", round(metrics.mean_squared_error(y_test, y_pred_perusahaan), 2)) \n",
        "print(\"Root Mean Square Error =\", round(np.sqrt(metrics.mean_squared_error(y_test, y_pred_perusahaan)), 2)) "
      ]
    },
    {
      "cell_type": "markdown",
      "metadata": {
        "id": "bRhlvWsTOxQW"
      },
      "source": [
        "Visualisasi"
      ]
    },
    {
      "cell_type": "code",
      "execution_count": 27,
      "metadata": {
        "colab": {
          "base_uri": "https://localhost:8080/",
          "height": 297
        },
        "id": "2JAWeiYfOxQW",
        "outputId": "5dbf8eda-9f9f-4b4e-d095-c298d8b58551"
      },
      "outputs": [
        {
          "data": {
            "text/plain": [
              "Text(0, 0.5, 'MCU Perusahaan')"
            ]
          },
          "execution_count": 27,
          "metadata": {},
          "output_type": "execute_result"
        },
        {
          "data": {
            "image/png": "[encoded data removed]",
            "text/plain": [
              "<Figure size 432x288 with 1 Axes>"
            ]
          },
          "metadata": {
            "needs_background": "light"
          },
          "output_type": "display_data"
        }
      ],
      "source": [
        "y_prediksi_perusahaan = model_perusahaan.predict(X_test)\n",
        "\n",
        "plt.scatter(X_test, y_test)\n",
        "plt.plot(X_test, y_prediksi_perusahaan, c='r')\n",
        "plt.xlabel('Tahun/bulan')\n",
        "plt.ylabel('MCU Perusahaan')\n",
        "# plt.title('Plot enginesize vs Price')"
      ]
    },
    {
      "cell_type": "code",
      "execution_count": 28,
      "metadata": {
        "colab": {
          "base_uri": "https://localhost:8080/"
        },
        "id": "JUFV7y3lOxQW",
        "outputId": "be692ba1-7527-4d7f-b41a-895d7f28f85f"
      },
      "outputs": [
        {
          "name": "stdout",
          "output_type": "stream",
          "text": [
            "nilai prediksi pada bulan ke-57 :  [[-0.03]]\n",
            "nilai prediksi pada bulan ke-58 :  [[-0.03]]\n",
            "nilai prediksi pada bulan ke-59 :  [[-0.03]]\n"
          ]
        }
      ],
      "source": [
        "print('nilai prediksi pada bulan ke-57 : ',model_perusahaan.predict([[57]]))\n",
        "print('nilai prediksi pada bulan ke-58 : ',model_perusahaan.predict([[58]]))\n",
        "print('nilai prediksi pada bulan ke-59 : ',model_perusahaan.predict([[59]]))"
      ]
    },
    {
      "cell_type": "code",
      "execution_count": 29,
      "metadata": {
        "id": "Wc7af_GyO7rL"
      },
      "outputs": [],
      "source": [
        "filename = 'finalized_model_perusahaan.sav'\n",
        "pickle.dump(model_perusahaan, open(filename, 'wb'))"
      ]
    },
    {
      "cell_type": "markdown",
      "metadata": {
        "id": "p50YZldiO7_5"
      },
      "source": [
        "# MCU Umum"
      ]
    },
    {
      "cell_type": "markdown",
      "metadata": {
        "id": "KECZtjIJO7_5"
      },
      "source": [
        "Memuat Model\n"
      ]
    },
    {
      "cell_type": "code",
      "execution_count": 30,
      "metadata": {
        "id": "tHiJgkCqO7_6"
      },
      "outputs": [],
      "source": [
        "dfmodel = df.copy()"
      ]
    },
    {
      "cell_type": "code",
      "execution_count": 31,
      "metadata": {
        "id": "GX0qg6eqO7_6"
      },
      "outputs": [],
      "source": [
        "from sklearn.model_selection import train_test_split\n",
        "X_train, X_test, y_train, y_test = train_test_split(dfmodel.index, dfmodel[['MCU UMUM']], test_size=0.20, random_state=0)"
      ]
    },
    {
      "cell_type": "code",
      "execution_count": 32,
      "metadata": {
        "id": "yb3mxPSEO7_6"
      },
      "outputs": [],
      "source": [
        "X_train = X_train.values.reshape(-1,1)\n",
        "X_test = X_test.values.reshape(-1,1)"
      ]
    },
    {
      "cell_type": "markdown",
      "metadata": {
        "id": "2jY3uNvFO7_6"
      },
      "source": [
        "Menerapkan Model Regresi Linear"
      ]
    },
    {
      "cell_type": "code",
      "execution_count": 33,
      "metadata": {
        "colab": {
          "base_uri": "https://localhost:8080/"
        },
        "id": "egRwQsxvO7_6",
        "outputId": "6b703187-4bdf-40b8-affb-be9fe3b0f0e1"
      },
      "outputs": [
        {
          "data": {
            "text/plain": [
              "LinearRegression()"
            ]
          },
          "execution_count": 33,
          "metadata": {},
          "output_type": "execute_result"
        }
      ],
      "source": [
        "from sklearn.linear_model import LinearRegression\n",
        "model_umum = LinearRegression()\n",
        "model_umum.fit(X_train, y_train)"
      ]
    },
    {
      "cell_type": "markdown",
      "metadata": {
        "id": "yhL1jc_eO7_7"
      },
      "source": [
        "Evaluasi Model"
      ]
    },
    {
      "cell_type": "code",
      "execution_count": 34,
      "metadata": {
        "colab": {
          "base_uri": "https://localhost:8080/"
        },
        "id": "SYSfpW3-O7_7",
        "outputId": "c90be723-140a-4990-9389-e18df5f4f3e5"
      },
      "outputs": [
        {
          "data": {
            "text/plain": [
              "array([[ 0.39],\n",
              "       [ 0.43],\n",
              "       [ 0.13],\n",
              "       [ 0.74],\n",
              "       [ 1.43],\n",
              "       [ 1.82],\n",
              "       [ 0.48],\n",
              "       [-0.52],\n",
              "       [ 0.96],\n",
              "       [-0.48],\n",
              "       [ 1.74],\n",
              "       [ 1.48]])"
            ]
          },
          "execution_count": 34,
          "metadata": {},
          "output_type": "execute_result"
        }
      ],
      "source": [
        "y_pred_umum = model_umum.predict(X_test)\n",
        "np.set_printoptions(precision=2)\n",
        "y_pred_umum"
      ]
    },
    {
      "cell_type": "code",
      "execution_count": 35,
      "metadata": {
        "colab": {
          "base_uri": "https://localhost:8080/"
        },
        "id": "aiC-afM3O7_7",
        "outputId": "c51461e0-9527-4f11-c71c-a4b27caacb02"
      },
      "outputs": [
        {
          "name": "stdout",
          "output_type": "stream",
          "text": [
            "Mean absolute error = 0.62\n",
            "Median absolute error = 0.48\n",
            "Mean Square Error = 0.57\n",
            "Root Mean Square Error = 0.76\n"
          ]
        }
      ],
      "source": [
        "import sklearn.metrics as metrics\n",
        "print(\"Mean absolute error =\", round(metrics.mean_absolute_error(y_test, y_pred_umum), 2)) \n",
        "print(\"Median absolute error =\", round(metrics.median_absolute_error(y_test, y_pred_umum), 2)) \n",
        "print(\"Mean Square Error =\", round(metrics.mean_squared_error(y_test, y_pred_umum), 2)) \n",
        "print(\"Root Mean Square Error =\", round(np.sqrt(metrics.mean_squared_error(y_test, y_pred_umum)), 2)) "
      ]
    },
    {
      "cell_type": "markdown",
      "metadata": {
        "id": "9_BC7-gxO7_7"
      },
      "source": [
        "Visualisasi"
      ]
    },
    {
      "cell_type": "code",
      "execution_count": 36,
      "metadata": {
        "colab": {
          "base_uri": "https://localhost:8080/",
          "height": 297
        },
        "id": "BdwnXjx5O7_7",
        "outputId": "bba6d780-8d22-4797-d100-eb44c5e53d80"
      },
      "outputs": [
        {
          "data": {
            "text/plain": [
              "Text(0, 0.5, 'MCU Umum')"
            ]
          },
          "execution_count": 36,
          "metadata": {},
          "output_type": "execute_result"
        },
        {
          "data": {
            "image/png": "[encoded data removed]",
            "text/plain": [
              "<Figure size 432x288 with 1 Axes>"
            ]
          },
          "metadata": {
            "needs_background": "light"
          },
          "output_type": "display_data"
        }
      ],
      "source": [
        "y_prediksi_umum = model_umum.predict(X_test)\n",
        "\n",
        "plt.scatter(X_test, y_test)\n",
        "plt.plot(X_test, y_prediksi_umum, c='r')\n",
        "plt.xlabel('Tahun/bulan')\n",
        "plt.ylabel('MCU Umum')\n",
        "# plt.title('Plot enginesize vs Price')"
      ]
    },
    {
      "cell_type": "code",
      "execution_count": 37,
      "metadata": {
        "colab": {
          "base_uri": "https://localhost:8080/"
        },
        "id": "Dg4BZLJNO7_8",
        "outputId": "2b123aa8-d7a8-4c88-f9a4-5fb5da89f1e3"
      },
      "outputs": [
        {
          "name": "stdout",
          "output_type": "stream",
          "text": [
            "nilai prediksi harga dengan enginesize 100 :  -0.5637090572998937\n",
            "nilai prediksi harga dengan enginesize 150 :  [[-0.61]]\n",
            "nilai prediksi harga dengan enginesize 200 :  [[-0.65]]\n"
          ]
        }
      ],
      "source": [
        "print('nilai prediksi harga dengan enginesize 100 : ',model_umum.predict([[57]])[0][0])\n",
        "print('nilai prediksi harga dengan enginesize 150 : ',model_umum.predict([[58]]))\n",
        "print('nilai prediksi harga dengan enginesize 200 : ',model_umum.predict([[59]]))"
      ]
    },
    {
      "cell_type": "code",
      "execution_count": 38,
      "metadata": {
        "id": "ZrpicNBEO_w1"
      },
      "outputs": [],
      "source": [
        "filename = 'finalized_model_umum.sav'\n",
        "pickle.dump(model_umum, open(filename, 'wb'))"
      ]
    },
    {
      "cell_type": "markdown",
      "metadata": {
        "id": "LeIyDi7nPALe"
      },
      "source": [
        "# MCU Eksekutif"
      ]
    },
    {
      "cell_type": "markdown",
      "metadata": {
        "id": "yTf5vJSRPALe"
      },
      "source": [
        "Memuat Model\n"
      ]
    },
    {
      "cell_type": "code",
      "execution_count": 39,
      "metadata": {
        "id": "AJfm2MRLPALf"
      },
      "outputs": [],
      "source": [
        "dfmodel = df.copy()"
      ]
    },
    {
      "cell_type": "code",
      "execution_count": 40,
      "metadata": {
        "id": "ghKB8FLQPALf"
      },
      "outputs": [],
      "source": [
        "from sklearn.model_selection import train_test_split\n",
        "X_train, X_test, y_train, y_test = train_test_split(dfmodel.index, dfmodel[['MCU EKSEKUTIF']], test_size=0.20, random_state=0)"
      ]
    },
    {
      "cell_type": "code",
      "execution_count": 41,
      "metadata": {
        "id": "cIwXgmvoPALf"
      },
      "outputs": [],
      "source": [
        "X_train = X_train.values.reshape(-1,1)\n",
        "X_test = X_test.values.reshape(-1,1)"
      ]
    },
    {
      "cell_type": "markdown",
      "metadata": {
        "id": "RzVooOgSPALf"
      },
      "source": [
        "Menerapkan Model Regresi Linear"
      ]
    },
    {
      "cell_type": "code",
      "execution_count": 42,
      "metadata": {
        "colab": {
          "base_uri": "https://localhost:8080/"
        },
        "id": "ilRXpCM7PALf",
        "outputId": "ba3e1bd2-768e-4958-f73f-ae0ecb5bd8c1"
      },
      "outputs": [
        {
          "data": {
            "text/plain": [
              "LinearRegression()"
            ]
          },
          "execution_count": 42,
          "metadata": {},
          "output_type": "execute_result"
        }
      ],
      "source": [
        "from sklearn.linear_model import LinearRegression\n",
        "model_eks = LinearRegression()\n",
        "model_eks.fit(X_train, y_train)"
      ]
    },
    {
      "cell_type": "markdown",
      "metadata": {
        "id": "2c8X1xoEPALg"
      },
      "source": [
        "Evaluasi Model"
      ]
    },
    {
      "cell_type": "code",
      "execution_count": 43,
      "metadata": {
        "colab": {
          "base_uri": "https://localhost:8080/"
        },
        "id": "xsqcd2xUPALg",
        "outputId": "6e45561d-856b-4bd1-dc42-8f5a3147e505"
      },
      "outputs": [
        {
          "data": {
            "text/plain": [
              "array([[1.37],\n",
              "       [1.35],\n",
              "       [1.48],\n",
              "       [1.22],\n",
              "       [0.93],\n",
              "       [0.77],\n",
              "       [1.33],\n",
              "       [1.75],\n",
              "       [1.13],\n",
              "       [1.73],\n",
              "       [0.81],\n",
              "       [0.92]])"
            ]
          },
          "execution_count": 43,
          "metadata": {},
          "output_type": "execute_result"
        }
      ],
      "source": [
        "y_pred_eks = model_eks.predict(X_test)\n",
        "np.set_printoptions(precision=2)\n",
        "y_pred_eks"
      ]
    },
    {
      "cell_type": "code",
      "execution_count": 44,
      "metadata": {
        "colab": {
          "base_uri": "https://localhost:8080/"
        },
        "id": "8_a4O_eePALg",
        "outputId": "4e57c081-db6b-4107-ffeb-583c2989ab36"
      },
      "outputs": [
        {
          "name": "stdout",
          "output_type": "stream",
          "text": [
            "Mean absolute error = 0.96\n",
            "Median absolute error = 1.03\n",
            "Mean Square Error = 1.16\n",
            "Root Mean Square Error = 1.08\n"
          ]
        }
      ],
      "source": [
        "import sklearn.metrics as metrics\n",
        "print(\"Mean absolute error =\", round(metrics.mean_absolute_error(y_test, y_pred_eks), 2)) \n",
        "print(\"Median absolute error =\", round(metrics.median_absolute_error(y_test, y_pred_eks), 2)) \n",
        "print(\"Mean Square Error =\", round(metrics.mean_squared_error(y_test, y_pred_eks), 2)) \n",
        "print(\"Root Mean Square Error =\", round(np.sqrt(metrics.mean_squared_error(y_test, y_pred_eks)), 2)) "
      ]
    },
    {
      "cell_type": "markdown",
      "metadata": {
        "id": "LUSK-7EePALg"
      },
      "source": [
        "Visualisasi"
      ]
    },
    {
      "cell_type": "code",
      "execution_count": 45,
      "metadata": {
        "colab": {
          "base_uri": "https://localhost:8080/",
          "height": 297
        },
        "id": "Crk87QTaPALh",
        "outputId": "a0b12646-2d1a-4b49-e081-423d149678a0"
      },
      "outputs": [
        {
          "data": {
            "text/plain": [
              "Text(0, 0.5, 'MCU Eksekutif')"
            ]
          },
          "execution_count": 45,
          "metadata": {},
          "output_type": "execute_result"
        },
        {
          "data": {
            "image/png": "[encoded data removed]",
            "text/plain": [
              "<Figure size 432x288 with 1 Axes>"
            ]
          },
          "metadata": {
            "needs_background": "light"
          },
          "output_type": "display_data"
        }
      ],
      "source": [
        "y_prediksi_eks = model_eks.predict(X_test)\n",
        "\n",
        "plt.scatter(X_test, y_test)\n",
        "plt.plot(X_test, y_prediksi_eks, c='r')\n",
        "plt.xlabel('Tahun/bulan')\n",
        "plt.ylabel('MCU Eksekutif')\n",
        "# plt.title('Plot enginesize vs Price')"
      ]
    },
    {
      "cell_type": "code",
      "execution_count": 46,
      "metadata": {
        "colab": {
          "base_uri": "https://localhost:8080/"
        },
        "id": "1DKiLHYOPALh",
        "outputId": "6a63503d-e0d8-4e29-b3c5-d1d4d0ab7717"
      },
      "outputs": [
        {
          "name": "stdout",
          "output_type": "stream",
          "text": [
            "nilai prediksi harga dengan enginesize 100 :  [[1.77]]\n",
            "nilai prediksi harga dengan enginesize 150 :  [[1.79]]\n",
            "nilai prediksi harga dengan enginesize 200 :  [[1.8]]\n"
          ]
        }
      ],
      "source": [
        "print('nilai prediksi harga dengan enginesize 100 : ',model_eks.predict([[57]]))\n",
        "print('nilai prediksi harga dengan enginesize 150 : ',model_eks.predict([[58]]))\n",
        "print('nilai prediksi harga dengan enginesize 200 : ',model_eks.predict([[59]]))"
      ]
    },
    {
      "cell_type": "code",
      "execution_count": 47,
      "metadata": {
        "id": "jvXZeVjlPEr5"
      },
      "outputs": [],
      "source": [
        "filename = 'finalized_model_eks.sav'\n",
        "pickle.dump(model_eks, open(filename, 'wb'))"
      ]
    },
    {
      "cell_type": "markdown",
      "metadata": {
        "id": "XRhYnE38PFKm"
      },
      "source": [
        "# MCU Haji ONH Plus"
      ]
    },
    {
      "cell_type": "markdown",
      "metadata": {
        "id": "eosVUhn0PFKn"
      },
      "source": [
        "Memuat Model\n"
      ]
    },
    {
      "cell_type": "code",
      "execution_count": 48,
      "metadata": {
        "id": "ksP02H7uPFKn"
      },
      "outputs": [],
      "source": [
        "dfmodel = df.copy()"
      ]
    },
    {
      "cell_type": "code",
      "execution_count": 49,
      "metadata": {
        "id": "BwQGQil8PFKn"
      },
      "outputs": [],
      "source": [
        "from sklearn.model_selection import train_test_split\n",
        "X_train, X_test, y_train, y_test = train_test_split(dfmodel.index, dfmodel[['MCU HAJI ONH PLUS']], test_size=0.20, random_state=0)"
      ]
    },
    {
      "cell_type": "code",
      "execution_count": 50,
      "metadata": {
        "id": "s5G3AF3RPFKn"
      },
      "outputs": [],
      "source": [
        "X_train = X_train.values.reshape(-1,1)\n",
        "X_test = X_test.values.reshape(-1,1)"
      ]
    },
    {
      "cell_type": "markdown",
      "metadata": {
        "id": "rIfZZuSpPFKn"
      },
      "source": [
        "Menerapkan Model Regresi Linear"
      ]
    },
    {
      "cell_type": "code",
      "execution_count": 51,
      "metadata": {
        "colab": {
          "base_uri": "https://localhost:8080/"
        },
        "id": "HOSuhpB8PFKo",
        "outputId": "258d7f99-be11-4fd6-8762-46f4c06d21a9"
      },
      "outputs": [
        {
          "data": {
            "text/plain": [
              "LinearRegression()"
            ]
          },
          "execution_count": 51,
          "metadata": {},
          "output_type": "execute_result"
        }
      ],
      "source": [
        "from sklearn.linear_model import LinearRegression\n",
        "model_haji2 = LinearRegression()\n",
        "model_haji2.fit(X_train, y_train)"
      ]
    },
    {
      "cell_type": "markdown",
      "metadata": {
        "id": "bPnNYnVgPFKo"
      },
      "source": [
        "Evaluasi Model"
      ]
    },
    {
      "cell_type": "code",
      "execution_count": 52,
      "metadata": {
        "colab": {
          "base_uri": "https://localhost:8080/"
        },
        "id": "8BFEq_dxPFKo",
        "outputId": "52eed680-b157-4aee-e2d6-7410f95b0f4d"
      },
      "outputs": [
        {
          "data": {
            "text/plain": [
              "array([[  4.05],\n",
              "       [  4.87],\n",
              "       [ -0.86],\n",
              "       [ 10.59],\n",
              "       [ 23.69],\n",
              "       [ 31.05],\n",
              "       [  5.68],\n",
              "       [-13.14],\n",
              "       [ 14.69],\n",
              "       [-12.32],\n",
              "       [ 29.42],\n",
              "       [ 24.51]])"
            ]
          },
          "execution_count": 52,
          "metadata": {},
          "output_type": "execute_result"
        }
      ],
      "source": [
        "y_pred_haji2 = model_haji2.predict(X_test)\n",
        "np.set_printoptions(precision=2)\n",
        "y_pred_haji2"
      ]
    },
    {
      "cell_type": "code",
      "execution_count": 53,
      "metadata": {
        "colab": {
          "base_uri": "https://localhost:8080/"
        },
        "id": "WyRGNp3PPFKo",
        "outputId": "2b1ec6ea-cf15-4c47-beed-a95449653928"
      },
      "outputs": [
        {
          "name": "stdout",
          "output_type": "stream",
          "text": [
            "Mean absolute error = 14.57\n",
            "Median absolute error = 12.73\n",
            "Mean Square Error = 309.73\n",
            "Root Mean Square Error = 17.6\n"
          ]
        }
      ],
      "source": [
        "import sklearn.metrics as metrics\n",
        "print(\"Mean absolute error =\", round(metrics.mean_absolute_error(y_test, y_pred_haji2), 2)) \n",
        "print(\"Median absolute error =\", round(metrics.median_absolute_error(y_test, y_pred_haji2), 2)) \n",
        "print(\"Mean Square Error =\", round(metrics.mean_squared_error(y_test, y_pred_haji2), 2)) \n",
        "print(\"Root Mean Square Error =\", round(np.sqrt(metrics.mean_squared_error(y_test, y_pred_haji2)), 2)) "
      ]
    },
    {
      "cell_type": "markdown",
      "metadata": {
        "id": "FqOCTTB0PFKo"
      },
      "source": [
        "Visualisasi"
      ]
    },
    {
      "cell_type": "code",
      "execution_count": 54,
      "metadata": {
        "colab": {
          "base_uri": "https://localhost:8080/",
          "height": 297
        },
        "id": "XlqQ_E95PFKp",
        "outputId": "233d00ca-cd58-45f4-d612-b287498fa49b"
      },
      "outputs": [
        {
          "data": {
            "text/plain": [
              "Text(0, 0.5, 'MCU Haji ONH PLUS')"
            ]
          },
          "execution_count": 54,
          "metadata": {},
          "output_type": "execute_result"
        },
        {
          "data": {
            "image/png": "[encoded data removed]",
            "text/plain": [
              "<Figure size 432x288 with 1 Axes>"
            ]
          },
          "metadata": {
            "needs_background": "light"
          },
          "output_type": "display_data"
        }
      ],
      "source": [
        "y_prediksi_haji2 = model_haji2.predict(X_test)\n",
        "\n",
        "plt.scatter(X_test, y_test)\n",
        "plt.plot(X_test, y_prediksi_haji2, c='r')\n",
        "plt.xlabel('Tahun/bulan')\n",
        "plt.ylabel('MCU Haji ONH PLUS')\n",
        "# plt.title('Plot enginesize vs Price')"
      ]
    },
    {
      "cell_type": "code",
      "execution_count": 55,
      "metadata": {
        "colab": {
          "base_uri": "https://localhost:8080/"
        },
        "id": "IHkrxfYVPFKp",
        "outputId": "4ba4319c-eca4-4f9a-8a64-b5d3148b6b05"
      },
      "outputs": [
        {
          "name": "stdout",
          "output_type": "stream",
          "text": [
            "nilai prediksi harga dengan enginesize 100 :  [[-13.96]]\n",
            "nilai prediksi harga dengan enginesize 150 :  [[-14.78]]\n",
            "nilai prediksi harga dengan enginesize 200 :  [[-15.59]]\n"
          ]
        }
      ],
      "source": [
        "print('nilai prediksi harga dengan enginesize 100 : ',model_haji2.predict([[57]]))\n",
        "print('nilai prediksi harga dengan enginesize 150 : ',model_haji2.predict([[58]]))\n",
        "print('nilai prediksi harga dengan enginesize 200 : ',model_haji2.predict([[59]]))"
      ]
    },
    {
      "cell_type": "code",
      "execution_count": 56,
      "metadata": {
        "id": "5KbekcDNPKvs"
      },
      "outputs": [],
      "source": [
        "filename = 'finalized_model_haji2.sav'\n",
        "pickle.dump(model_haji2, open(filename, 'wb'))"
      ]
    },
    {
      "cell_type": "markdown",
      "metadata": {
        "id": "bLb67PZwPLSL"
      },
      "source": [
        "# MCU Karyawan"
      ]
    },
    {
      "cell_type": "markdown",
      "metadata": {
        "id": "GbtgpjzEPLSL"
      },
      "source": [
        "Memuat Model\n"
      ]
    },
    {
      "cell_type": "code",
      "execution_count": 63,
      "metadata": {
        "id": "5E0yUKTKPLSM"
      },
      "outputs": [],
      "source": [
        "dfmodel = df.copy()"
      ]
    },
    {
      "cell_type": "code",
      "execution_count": 64,
      "metadata": {
        "id": "LlycMFY5PLSM"
      },
      "outputs": [],
      "source": [
        "from sklearn.model_selection import train_test_split\n",
        "X_train, X_test, y_train, y_test = train_test_split(dfmodel.index, dfmodel[['MCU KARYAWAN']], test_size=0.20, random_state=0)"
      ]
    },
    {
      "cell_type": "code",
      "execution_count": 65,
      "metadata": {
        "id": "9vGAe8mGPLSM"
      },
      "outputs": [],
      "source": [
        "X_train = X_train.values.reshape(-1,1)\n",
        "X_test = X_test.values.reshape(-1,1)"
      ]
    },
    {
      "cell_type": "markdown",
      "metadata": {
        "id": "wcZPMy0IPLSM"
      },
      "source": [
        "Menerapkan Model Regresi Linear"
      ]
    },
    {
      "cell_type": "code",
      "execution_count": 66,
      "metadata": {
        "colab": {
          "base_uri": "https://localhost:8080/"
        },
        "id": "QeEM8-1dPLSM",
        "outputId": "bbf3d8f9-33a1-4b87-8e36-f11baf9a5023"
      },
      "outputs": [
        {
          "data": {
            "text/plain": [
              "LinearRegression()"
            ]
          },
          "execution_count": 66,
          "metadata": {},
          "output_type": "execute_result"
        }
      ],
      "source": [
        "from sklearn.linear_model import LinearRegression\n",
        "model_karyawan = LinearRegression()\n",
        "model_karyawan.fit(X_train, y_train)"
      ]
    },
    {
      "cell_type": "markdown",
      "metadata": {
        "id": "rApLwSV-PLSN"
      },
      "source": [
        "Evaluasi Model"
      ]
    },
    {
      "cell_type": "code",
      "execution_count": 67,
      "metadata": {
        "colab": {
          "base_uri": "https://localhost:8080/"
        },
        "id": "TEh9FIABPLSN",
        "outputId": "0d542c46-c8d1-466a-cfb4-a8f771e80bbe"
      },
      "outputs": [
        {
          "data": {
            "text/plain": [
              "array([[ 8.06],\n",
              "       [ 8.28],\n",
              "       [ 6.8 ],\n",
              "       [ 9.75],\n",
              "       [13.12],\n",
              "       [15.01],\n",
              "       [ 8.49],\n",
              "       [ 3.64],\n",
              "       [10.8 ],\n",
              "       [ 3.85],\n",
              "       [14.59],\n",
              "       [13.33]])"
            ]
          },
          "execution_count": 67,
          "metadata": {},
          "output_type": "execute_result"
        }
      ],
      "source": [
        "y_pred_karyawan = model_karyawan.predict(X_test)\n",
        "np.set_printoptions(precision=2)\n",
        "y_pred_karyawan"
      ]
    },
    {
      "cell_type": "code",
      "execution_count": 68,
      "metadata": {
        "colab": {
          "base_uri": "https://localhost:8080/"
        },
        "id": "Appb6ZzQPLSN",
        "outputId": "ac14b387-84e2-4605-eb29-cc62fdcb7d25"
      },
      "outputs": [
        {
          "name": "stdout",
          "output_type": "stream",
          "text": [
            "Mean absolute error = 19.79\n",
            "Median absolute error = 14.19\n",
            "Mean Square Error = 862.32\n",
            "Root Mean Square Error = 29.37\n"
          ]
        }
      ],
      "source": [
        "import sklearn.metrics as metrics\n",
        "print(\"Mean absolute error =\", round(metrics.mean_absolute_error(y_test, y_pred_karyawan), 2)) \n",
        "print(\"Median absolute error =\", round(metrics.median_absolute_error(y_test, y_pred_karyawan), 2)) \n",
        "print(\"Mean Square Error =\", round(metrics.mean_squared_error(y_test, y_pred_karyawan), 2)) \n",
        "print(\"Root Mean Square Error =\", round(np.sqrt(metrics.mean_squared_error(y_test, y_pred_karyawan)), 2)) "
      ]
    },
    {
      "cell_type": "markdown",
      "metadata": {
        "id": "S6amhIy_PLSN"
      },
      "source": [
        "Visualisasi"
      ]
    },
    {
      "cell_type": "code",
      "execution_count": 69,
      "metadata": {
        "colab": {
          "base_uri": "https://localhost:8080/",
          "height": 300
        },
        "id": "LSb_NrI7PLSN",
        "outputId": "355ff7e1-9e22-448f-a4c9-bffb8d2e0914"
      },
      "outputs": [
        {
          "data": {
            "text/plain": [
              "Text(0, 0.5, 'MCU Karyawan')"
            ]
          },
          "execution_count": 69,
          "metadata": {},
          "output_type": "execute_result"
        },
        {
          "data": {
            "image/png": "[encoded data removed]",
            "text/plain": [
              "<Figure size 432x288 with 1 Axes>"
            ]
          },
          "metadata": {
            "needs_background": "light"
          },
          "output_type": "display_data"
        }
      ],
      "source": [
        "y_prediksi_karyawan = model_karyawan.predict(X_test)\n",
        "\n",
        "plt.scatter(X_test, y_test)\n",
        "plt.plot(X_test, y_prediksi_karyawan, c='r')\n",
        "plt.xlabel('Tahun/bulan')\n",
        "plt.ylabel('MCU Karyawan')\n",
        "# plt.title('Plot enginesize vs Price')"
      ]
    },
    {
      "cell_type": "code",
      "execution_count": 70,
      "metadata": {
        "colab": {
          "base_uri": "https://localhost:8080/"
        },
        "id": "iRL6VN0PPLSO",
        "outputId": "27d9aa10-2e01-4299-de42-0cc93da702c9"
      },
      "outputs": [
        {
          "name": "stdout",
          "output_type": "stream",
          "text": [
            "nilai prediksi harga dengan enginesize 100 :  [[3.43]]\n",
            "nilai prediksi harga dengan enginesize 150 :  [[3.22]]\n",
            "nilai prediksi harga dengan enginesize 200 :  [[3.01]]\n"
          ]
        }
      ],
      "source": [
        "print('nilai prediksi harga dengan enginesize 100 : ',model_karyawan.predict([[57]]))\n",
        "print('nilai prediksi harga dengan enginesize 150 : ',model_karyawan.predict([[58]]))\n",
        "print('nilai prediksi harga dengan enginesize 200 : ',model_karyawan.predict([[59]]))"
      ]
    },
    {
      "cell_type": "code",
      "execution_count": 72,
      "metadata": {
        "id": "Zi-Sf6nZPPsC"
      },
      "outputs": [],
      "source": [
        "filename = 'finalized_model_karyawan.sav'\n",
        "pickle.dump(model_karyawan, open(filename, 'wb'))"
      ]
    },
    {
      "cell_type": "markdown",
      "metadata": {
        "id": "OEvbtxqaPTLG"
      },
      "source": [
        "# MCU TKHI"
      ]
    },
    {
      "cell_type": "markdown",
      "metadata": {
        "id": "KlD9cdObPTLG"
      },
      "source": [
        "Memuat Model\n"
      ]
    },
    {
      "cell_type": "code",
      "execution_count": 80,
      "metadata": {
        "id": "kLQ-WvSnPTLG"
      },
      "outputs": [],
      "source": [
        "dfmodel = df.copy()"
      ]
    },
    {
      "cell_type": "code",
      "execution_count": 81,
      "metadata": {
        "id": "gfGXLh8jPTLG"
      },
      "outputs": [],
      "source": [
        "from sklearn.model_selection import train_test_split\n",
        "X_train, X_test, y_train, y_test = train_test_split(dfmodel.index, dfmodel[['MCU TKHI']], test_size=0.20, random_state=0)"
      ]
    },
    {
      "cell_type": "code",
      "execution_count": 82,
      "metadata": {
        "id": "truMQpVcPTLH"
      },
      "outputs": [],
      "source": [
        "X_train = X_train.values.reshape(-1,1)\n",
        "X_test = X_test.values.reshape(-1,1)"
      ]
    },
    {
      "cell_type": "markdown",
      "metadata": {
        "id": "kgd1a8fEPTLH"
      },
      "source": [
        "Menerapkan Model Regresi Linear"
      ]
    },
    {
      "cell_type": "code",
      "execution_count": 83,
      "metadata": {
        "colab": {
          "base_uri": "https://localhost:8080/"
        },
        "id": "2NW8p8PbPTLH",
        "outputId": "fe45bddd-eb3e-4bb4-c6cb-49772ef27fc9"
      },
      "outputs": [
        {
          "data": {
            "text/plain": [
              "LinearRegression()"
            ]
          },
          "execution_count": 83,
          "metadata": {},
          "output_type": "execute_result"
        }
      ],
      "source": [
        "from sklearn.linear_model import LinearRegression\n",
        "model_tkhi = LinearRegression()\n",
        "model_tkhi.fit(X_train, y_train)"
      ]
    },
    {
      "cell_type": "markdown",
      "metadata": {
        "id": "2VBMo1dJPTLH"
      },
      "source": [
        "Evaluasi Model"
      ]
    },
    {
      "cell_type": "code",
      "execution_count": 84,
      "metadata": {
        "colab": {
          "base_uri": "https://localhost:8080/"
        },
        "id": "GgPv-MjaPTLH",
        "outputId": "b19a53ea-c342-4638-9c2d-c42a0fb1ed41"
      },
      "outputs": [
        {
          "data": {
            "text/plain": [
              "array([[0.37],\n",
              "       [0.37],\n",
              "       [0.37],\n",
              "       [0.38],\n",
              "       [0.39],\n",
              "       [0.4 ],\n",
              "       [0.37],\n",
              "       [0.36],\n",
              "       [0.38],\n",
              "       [0.36],\n",
              "       [0.4 ],\n",
              "       [0.39]])"
            ]
          },
          "execution_count": 84,
          "metadata": {},
          "output_type": "execute_result"
        }
      ],
      "source": [
        "y_pred_tkhi = model_tkhi.predict(X_test)\n",
        "np.set_printoptions(precision=2)\n",
        "y_pred_tkhi"
      ]
    },
    {
      "cell_type": "code",
      "execution_count": 85,
      "metadata": {
        "colab": {
          "base_uri": "https://localhost:8080/"
        },
        "id": "ZrU16tqePTLI",
        "outputId": "ccca79a4-905c-40e2-c806-252cc7fd7be4"
      },
      "outputs": [
        {
          "name": "stdout",
          "output_type": "stream",
          "text": [
            "Mean absolute error = 0.65\n",
            "Median absolute error = 0.38\n",
            "Mean Square Error = 1.22\n",
            "Root Mean Square Error = 1.11\n"
          ]
        }
      ],
      "source": [
        "import sklearn.metrics as metrics\n",
        "print(\"Mean absolute error =\", round(metrics.mean_absolute_error(y_test, y_pred_tkhi), 2)) \n",
        "print(\"Median absolute error =\", round(metrics.median_absolute_error(y_test, y_pred_tkhi), 2)) \n",
        "print(\"Mean Square Error =\", round(metrics.mean_squared_error(y_test, y_pred_tkhi), 2)) \n",
        "print(\"Root Mean Square Error =\", round(np.sqrt(metrics.mean_squared_error(y_test, y_pred_tkhi)), 2)) "
      ]
    },
    {
      "cell_type": "markdown",
      "metadata": {
        "id": "d7HUOJQuPTLI"
      },
      "source": [
        "Visualisasi"
      ]
    },
    {
      "cell_type": "code",
      "execution_count": 86,
      "metadata": {
        "colab": {
          "base_uri": "https://localhost:8080/",
          "height": 297
        },
        "id": "lS2tUg-dPTLI",
        "outputId": "7dd16122-152e-47d5-82b4-d8b2150ef49d"
      },
      "outputs": [
        {
          "data": {
            "text/plain": [
              "Text(0, 0.5, 'MCU TKHI')"
            ]
          },
          "execution_count": 86,
          "metadata": {},
          "output_type": "execute_result"
        },
        {
          "data": {
            "image/png": "[encoded data removed]",
            "text/plain": [
              "<Figure size 432x288 with 1 Axes>"
            ]
          },
          "metadata": {
            "needs_background": "light"
          },
          "output_type": "display_data"
        }
      ],
      "source": [
        "y_prediksi_tkhi = model_tkhi.predict(X_test)\n",
        "\n",
        "plt.scatter(X_test, y_test)\n",
        "plt.plot(X_test, y_prediksi_tkhi, c='r')\n",
        "plt.xlabel('Tahun/bulan')\n",
        "plt.ylabel('MCU TKHI')\n",
        "# plt.title('Plot enginesize vs Price')"
      ]
    },
    {
      "cell_type": "code",
      "execution_count": 87,
      "metadata": {
        "colab": {
          "base_uri": "https://localhost:8080/"
        },
        "id": "WYNfKOQnPTLI",
        "outputId": "9c954efc-e77c-461e-9dff-ede9f79fd923"
      },
      "outputs": [
        {
          "name": "stdout",
          "output_type": "stream",
          "text": [
            "nilai prediksi harga dengan enginesize 100 :  [[0.35]]\n",
            "nilai prediksi harga dengan enginesize 150 :  [[0.35]]\n",
            "nilai prediksi harga dengan enginesize 200 :  [[0.35]]\n"
          ]
        }
      ],
      "source": [
        "print('nilai prediksi harga dengan enginesize 100 : ',model_tkhi.predict([[57]]))\n",
        "print('nilai prediksi harga dengan enginesize 150 : ',model_tkhi.predict([[58]]))\n",
        "print('nilai prediksi harga dengan enginesize 200 : ',model_tkhi.predict([[59]]))"
      ]
    },
    {
      "cell_type": "code",
      "execution_count": 88,
      "metadata": {},
      "outputs": [],
      "source": [
        "filename = 'finalized_model_tkhi.sav'\n",
        "pickle.dump(model_tkhi, open(filename, 'wb'))"
      ]
    }
  ],
  "metadata": {
    "colab": {
      "collapsed_sections": [],
      "name": "ITS04_Assignment Tugas Akhir 5_Kelompok 10",
      "provenance": []
    },
    "kernelspec": {
      "display_name": "Python 3",
      "name": "python3"
    },
    "language_info": {
      "codemirror_mode": {
        "name": "ipython",
        "version": 3
      },
      "file_extension": ".py",
      "mimetype": "text/x-python",
      "name": "python",
      "nbconvert_exporter": "python",
      "pygments_lexer": "ipython3",
      "version": "3.9.6"
    }
  },
  "nbformat": 4,
  "nbformat_minor": 0
}
